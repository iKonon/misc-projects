{
 "cells": [
  {
   "cell_type": "markdown",
   "metadata": {},
   "source": [
    "# Final Project"
   ]
  },
  {
   "cell_type": "markdown",
   "metadata": {},
   "source": [
    "Instructions: https://docs.google.com/document/u/1/d/1aCquhIqsUApgsxQ8-SQBAigFDcfWVVohLEXcV6jWbdI/pub?embedded=True"
   ]
  },
  {
   "cell_type": "markdown",
   "metadata": {},
   "source": [
    "**Experiment**: Free Trial Screener <br />\n",
    "**Hypothesis**: Reducing #frustrated students <br />\n",
    "**Unit of diversion** (what is the unit for the both groups): Cookie <br />\n",
    "*Note:* if the student enrolls in the free trial, they are tracked by user-id from that point forward. The same user-id cannot enroll in the free trial twice. For users that do not enroll, their user-id is not tracked in the experiment, even if they were signed in when they visited the course overview page."
   ]
  },
  {
   "cell_type": "markdown",
   "metadata": {
    "collapsed": true
   },
   "source": [
    "## Experiment Design\n",
    "### Metric Choice\n",
    "May be considered as an invariant (expect similar distribution in the both groups):\n",
    "<ol>\n",
    "<li>**#cookies** (#unique cookies to view the course overview page, dmin=3000): a good choice if we expect even allocation into two groups, as a unit of diversion is a cookie.</li>\n",
    "<li>**#user-ids** (#users who enroll in the free trial, dmin=50): not appropriate, since unregistered users also could view the page, so experimental group might be less than control group in this case. Can't be used as an evaluation, since it is not normalized.</li>\n",
    "<li>**#clicks** (#unique cookies to click the \"Start free trial\" button which happens before the free trial screener is trigger, dmin=240): a good choice, since is independent from the experiment.</li>\n",
    "<li>**Click-through-probability** (#clicks/#cookies, dmin=0.01): also is independent from the experiment and can be used in sanity checks, but if the first two metrics are chosen then this one is surplus.</li>\n",
    "</ol>\n",
    "\n",
    "May be considered as an evaluation (would like to see a significant difference):\n",
    "<ol>\n",
    "<li>**Gross conversion** (#user-ids to complete checkout and enroll in the free trial / #unique cookies to click the \"Start free trial\" button, dmin= 0.01): a good choice, as it is dependent on the experiment and is about probability to succeed (expect to be lower in the experimental group, as #users who left trial due to time lack should reduce significantly). </li>\n",
    "<li>**Retention** (#user-ids to remain enrolled past the 14-day boundary and thus make at least one payment / #user-ids to complete checkout, dmin=0.01): a good choice, as it is dependent on the experiment and is about probability to succeed (expect to be higher in the experimental group to filter out less flustrating users). Based on futher analysis this metric is declined due to required experiment duration. Additionally this one is a superposition of gross and net conversions, so can be skipped in the analysis.</li>\n",
    "<li>**Net conversion** (#user-ids to remain enrolled past the 14-day boundary and thus make at least one payment / #unique cookies to click the \"Start free trial\" button, dmin= 0.0075): a good choice, as it is dependent on the experiment and is about probability to succeed (expect to be higher in the experimental group, but not necessarily, as #users who made at least one payment should reduce insignificantly).</li>\n",
    "</ol>"
   ]
  },
  {
   "cell_type": "markdown",
   "metadata": {
    "collapsed": true
   },
   "source": [
    "### Measuring Standard Deviation\n",
    "#### Baseline Values\n",
    "<ul>\n",
    "<li>Unique cookies to view page per day:\t40000</li>\n",
    "<li>Unique cookies to click \"Start free trial\" per day:\t3200</li>\n",
    "<li>Enrollments per day:\t660</li>\n",
    "<li>Click-through-probability on \"Start free trial\":\t0.08</li>\n",
    "<li>Probability of enrolling, given click:\t0.20625</li>\n",
    "<li>Probability of payment, given enroll:\t0.53</li>\n",
    "<li>Probability of payment, given click:\t0.1093125</li>\n",
    "</ul>\n",
    "\n",
    "How many units of analysis will correspond to 5000 pageviews for each evaluation metric?"
   ]
  },
  {
   "cell_type": "code",
   "execution_count": 1,
   "metadata": {
    "collapsed": true
   },
   "outputs": [],
   "source": [
    "from math import sqrt\n",
    "def standart_deviation(p,n): # for Bernoulli distribution with probability p and population n\n",
    "    return round(sqrt(p*(1-p)/n),4)\n",
    "\n",
    "number_of_pageviews = 5000\n",
    "number_of_cookies = 40000\n",
    "\n",
    "number_of_clicks = number_of_pageviews*0.08\n",
    "number_of_enrollment = number_of_pageviews*0.08*0.20625"
   ]
  },
  {
   "cell_type": "markdown",
   "metadata": {},
   "source": [
    "The standard deviation of each of the evaluation metrics:"
   ]
  },
  {
   "cell_type": "code",
   "execution_count": 2,
   "metadata": {
    "collapsed": false
   },
   "outputs": [
    {
     "name": "stdout",
     "output_type": "stream",
     "text": [
      "Gross conversion: 0.0202\n",
      "Retention: 0.0549\n",
      "Net conversion: 0.0156\n"
     ]
    }
   ],
   "source": [
    "std_gross_conversion = standart_deviation(0.20625,number_of_clicks)\n",
    "std_retention = standart_deviation(0.53,number_of_enrollment)\n",
    "std_net_conversion = standart_deviation(0.1093125,number_of_clicks)\n",
    "\n",
    "print \"Gross conversion: %s\" % std_gross_conversion\n",
    "print \"Retention: %s\" % std_retention\n",
    "print \"Net conversion: %s\" % std_net_conversion"
   ]
  },
  {
   "cell_type": "markdown",
   "metadata": {},
   "source": [
    "For gross and net conversions the analytic estimations should be roughly close to the empirical ones since the unit of diversion is equal to the unit of analysis. If we choose retention as an evaluation metric, then the emperical variability should be calculated."
   ]
  },
  {
   "cell_type": "markdown",
   "metadata": {},
   "source": [
    "## Sizing\n",
    "### Number of Samples vs. Power\n",
    "Using the analytic estimates of variance, how many pageviews total (across both groups) would you need to collect to adequately power the experiment? Use an alpha of 0.05 and a beta of 0.2. Make sure you have enough power for each metric."
   ]
  },
  {
   "cell_type": "markdown",
   "metadata": {},
   "source": [
    "The metrics chosen are not independent therefore Bonferroni correction might be too conservative to use.<br/>\n",
    "The sample size (the number of pageviews needed to power the experiment appropriately) can be estimated using the online calculator:  http://www.evanmiller.org/ab-testing/sample-size.html\n",
    "\n",
    "**Gross conversion**\n",
    "Baseline for sample size = 0.20625*100 = 20.625%\t\t\n",
    "Minimum Detectable Effect = 1%\n",
    "=> Sample size = 25835 per group\n",
    "\n",
    "**Retention**\n",
    "Baseline for sample size = 0.53*100 = 53%\t\t\n",
    "Minimum Detectable Effect = 1%\t\n",
    "=> Sample size = 39115 per group\n",
    "\n",
    "**Net conversion**\n",
    "Baseline for sample size = 0.1093125*100 = 10.9313%\t\t\n",
    "Minimum Detectable Effect = 0.75%\t\n",
    "=> Sample size = 27413 per group"
   ]
  },
  {
   "cell_type": "code",
   "execution_count": 3,
   "metadata": {
    "collapsed": false
   },
   "outputs": [
    {
     "name": "stdout",
     "output_type": "stream",
     "text": [
      "Pageviews required: 4741212\n"
     ]
    }
   ],
   "source": [
    "from __future__ import division\n",
    "\n",
    "sample_size_gross_conversion = 25835 * 2\n",
    "sample_size_retention = 39115 * 2\n",
    "sample_size_net_conversion = 27413 * 2\n",
    "\n",
    "ctr_gross_conversion = 3200/number_of_cookies\n",
    "ctr_retention = 660/number_of_cookies\n",
    "ctr_gross_conversion = 3200/number_of_cookies\n",
    "\n",
    "pageviews_gross_conversion = int(sample_size_gross_conversion / ctr_gross_conversion)\n",
    "pageviews_retention = int(sample_size_retention / ctr_retention)\n",
    "pageviews_net_conversion = int(sample_size_net_conversion / ctr_gross_conversion)\n",
    "\n",
    "#print pageviews_gross_conversion,pageviews_retention,pageviews_net_conversion\n",
    "print \"Pageviews required: %s\" % max(pageviews_gross_conversion,pageviews_retention,pageviews_net_conversion)"
   ]
  },
  {
   "cell_type": "markdown",
   "metadata": {
    "collapsed": true
   },
   "source": [
    "### Duration vs. Exposure\n",
    "Indicate what fraction of traffic you would divert to this experiment and, given this, how many days you would need to run the experiment.\n",
    "\n",
    "Give your reasoning for the fraction you chose to divert. How risky do you think this experiment would be for Udacity?"
   ]
  },
  {
   "cell_type": "code",
   "execution_count": 4,
   "metadata": {
    "collapsed": false
   },
   "outputs": [
    {
     "name": "stdout",
     "output_type": "stream",
     "text": [
      "119 days are required\n"
     ]
    }
   ],
   "source": [
    "from math import ceil\n",
    "def number_of_days(sample_size, fraction, daily_traffic):\n",
    "    return int(ceil(sample_size / fraction / daily_traffic))\n",
    "\n",
    "fraction = 1 # any value from 0 to 1, 1 means 100% of traffic\n",
    "\n",
    "print \"%s days are required\" % number_of_days(pageviews_retention,fraction,number_of_cookies)"
   ]
  },
  {
   "cell_type": "markdown",
   "metadata": {},
   "source": [
    "This is unreasonably long, let's try gross and net conversions only."
   ]
  },
  {
   "cell_type": "code",
   "execution_count": 5,
   "metadata": {
    "collapsed": false
   },
   "outputs": [
    {
     "data": {
      "text/plain": [
       "18"
      ]
     },
     "execution_count": 5,
     "metadata": {},
     "output_type": "execute_result"
    }
   ],
   "source": [
    "sample_size = max(pageviews_gross_conversion,pageviews_net_conversion)\n",
    "number_of_days(sample_size,fraction,number_of_cookies)"
   ]
  },
  {
   "cell_type": "code",
   "execution_count": 6,
   "metadata": {
    "collapsed": false
   },
   "outputs": [
    {
     "data": {
      "text/plain": [
       "23"
      ]
     },
     "execution_count": 6,
     "metadata": {},
     "output_type": "execute_result"
    }
   ],
   "source": [
    "fraction = 0.75\n",
    "number_of_days(sample_size,fraction,number_of_cookies)"
   ]
  },
  {
   "cell_type": "code",
   "execution_count": 7,
   "metadata": {
    "collapsed": false
   },
   "outputs": [
    {
     "data": {
      "text/plain": [
       "35"
      ]
     },
     "execution_count": 7,
     "metadata": {},
     "output_type": "execute_result"
    }
   ],
   "source": [
    "fraction = 0.5\n",
    "number_of_days(sample_size,fraction,number_of_cookies)"
   ]
  },
  {
   "cell_type": "markdown",
   "metadata": {},
   "source": [
    "Seems reasonable. Let's stick to these two metrics as evaluation ones. A decision about the duration and the traffic fraction should be made based on bussiness needs."
   ]
  },
  {
   "cell_type": "markdown",
   "metadata": {},
   "source": [
    "## Experiment Analysis"
   ]
  },
  {
   "cell_type": "markdown",
   "metadata": {},
   "source": [
    "The experiment raw data broken down day by day is provided. \n",
    "\n",
    "**Pageviews:** Number of unique cookies to view the course overview page that day.<br />\n",
    "**Clicks:** Number of unique cookies to click the course overview page that day.<br />\n",
    "**Enrollments:** Number of user-ids to enroll in the free trial that day.<br />\n",
    "**Payments:** Number of user-ids who who enrolled on that day to remain enrolled for 14 days and thus make a payment. (Note that the date for this column is the start date, that is, the date of enrollment, rather than the date of the payment. The payment happened 14 days later. Because of this, the enrollments and payments are tracked for 14 fewer days than the other columns.)"
   ]
  },
  {
   "cell_type": "code",
   "execution_count": 8,
   "metadata": {
    "collapsed": false
   },
   "outputs": [],
   "source": [
    "import xlrd\n",
    "\n",
    "def load_data(filename, sheet_index, header, rows_number):\n",
    "    d = {}\n",
    "    wb = xlrd.open_workbook(filename)\n",
    "    sh = wb.sheet_by_index(sheet_index)  \n",
    "    if header: \n",
    "        start = 1\n",
    "    else: \n",
    "        start = 0\n",
    "    for i in range(start,rows_number):\n",
    "        d[sh.cell(i,0).value] = [sh.cell(i,j).value for j in range(1,5)]\n",
    "    return d"
   ]
  },
  {
   "cell_type": "code",
   "execution_count": 9,
   "metadata": {
    "collapsed": false
   },
   "outputs": [],
   "source": [
    "control_dict = load_data('Final Project Results.xlsx', 0, True, 38)\n",
    "experiment_dict = load_data('Final Project Results.xlsx', 1, True, 38)"
   ]
  },
  {
   "cell_type": "markdown",
   "metadata": {
    "collapsed": true
   },
   "source": [
    "### Sanity checks\n",
    "Model the assigment to each group as a Bernoulli distribution with p = 0.5. <br/>\n",
    "The observed value is equal to # in the control group divided by the total number. <br/>\n",
    "For each of your invariant metrics, give the 95% confidence interval for the value you expect to observe, the actual observed value, and whether the metric passes your sanity check. For any sanity check that did not pass, explain your best guess as to what went wrong based on the day-by-day data. Do not proceed to the rest of the analysis unless all sanity checks pass."
   ]
  },
  {
   "cell_type": "code",
   "execution_count": 10,
   "metadata": {
    "collapsed": false
   },
   "outputs": [],
   "source": [
    "pageviews_control = sum([float(v[0]) for v in control_dict.values() if v[0]!=''])\n",
    "clicks_control = sum([float(v[1]) for v in control_dict.values() if v[1]!=''])\n",
    "\n",
    "enrollments_control = sum([float(v[2]) for v in control_dict.values() if v[2]!=''])\n",
    "payments_control = sum([float(v[3]) for v in control_dict.values() if v[3]!=''])\n",
    "\n",
    "clicks_after_payments_control = sum([float(v[1]) for k,v in control_dict.items() if v[3]!=''])"
   ]
  },
  {
   "cell_type": "code",
   "execution_count": 11,
   "metadata": {
    "collapsed": false
   },
   "outputs": [],
   "source": [
    "pageviews_experiment = sum([float(v[0]) for v in experiment_dict.values() if v[0]!=''])\n",
    "clicks_experiment = sum([float(v[1]) for v in experiment_dict.values() if v[1]!=''])\n",
    "\n",
    "enrollments_experiment = sum([float(v[2]) for v in experiment_dict.values() if v[2]!=''])\n",
    "payments_experiment = sum([float(v[3]) for v in experiment_dict.values() if v[3]!=''])\n",
    "\n",
    "clicks_after_payments_experiment = sum([float(v[1]) for k,v in experiment_dict.items() if v[3]!=''])"
   ]
  },
  {
   "cell_type": "code",
   "execution_count": 12,
   "metadata": {
    "collapsed": false
   },
   "outputs": [
    {
     "data": {
      "text/plain": [
       "1.959963984540054"
      ]
     },
     "execution_count": 12,
     "metadata": {},
     "output_type": "execute_result"
    }
   ],
   "source": [
    "import scipy.stats as st\n",
    "z_score = st.norm.ppf(1-(1-0.95)/2) \n",
    "z_score"
   ]
  },
  {
   "cell_type": "code",
   "execution_count": 13,
   "metadata": {
    "collapsed": true
   },
   "outputs": [],
   "source": [
    "def confidence_interval(mean,standard_error,z_score):\n",
    "    return (round(mean - (z_score*standard_error),4),round(mean + (z_score*standard_error),4))"
   ]
  },
  {
   "cell_type": "code",
   "execution_count": 14,
   "metadata": {
    "collapsed": false
   },
   "outputs": [
    {
     "name": "stdout",
     "output_type": "stream",
     "text": [
      "(0.4988, 0.5012)\n"
     ]
    }
   ],
   "source": [
    "p_true = 0.5\n",
    "\n",
    "SE_number_of_cookies = standart_deviation(p_true,pageviews_control+pageviews_experiment)\n",
    "CI = confidence_interval(p_true, SE_number_of_cookies, 1.96)\n",
    "print CI"
   ]
  },
  {
   "cell_type": "code",
   "execution_count": 15,
   "metadata": {
    "collapsed": false
   },
   "outputs": [
    {
     "name": "stdout",
     "output_type": "stream",
     "text": [
      "0.5006\n",
      "Metric passes the sanity check: True\n"
     ]
    }
   ],
   "source": [
    "p_hat_number_of_cookies = round(pageviews_control/(pageviews_control+pageviews_experiment),4)\n",
    "print p_hat_number_of_cookies\n",
    "print \"Metric passes the sanity check: %s\" % (p_hat_number_of_cookies > CI[0] and p_hat_number_of_cookies < CI [1])"
   ]
  },
  {
   "cell_type": "code",
   "execution_count": 16,
   "metadata": {
    "collapsed": false
   },
   "outputs": [
    {
     "name": "stdout",
     "output_type": "stream",
     "text": [
      "(0.4959, 0.5041)\n"
     ]
    }
   ],
   "source": [
    "p_true = 0.5\n",
    "SE_number_of_clicks = standart_deviation(p_true,clicks_control+clicks_experiment)\n",
    "CI = confidence_interval(p_true, SE_number_of_clicks, 1.96)\n",
    "print CI"
   ]
  },
  {
   "cell_type": "code",
   "execution_count": 17,
   "metadata": {
    "collapsed": false
   },
   "outputs": [
    {
     "name": "stdout",
     "output_type": "stream",
     "text": [
      "0.5005\n",
      "Metric passes the sanity check: True\n"
     ]
    }
   ],
   "source": [
    "p_hat_number_of_clicks = round(clicks_control/(clicks_control+clicks_experiment),4)\n",
    "print p_hat_number_of_clicks\n",
    "print \"Metric passes the sanity check: %s\" % (p_hat_number_of_clicks > CI[0] and p_hat_number_of_clicks < CI [1])"
   ]
  },
  {
   "cell_type": "markdown",
   "metadata": {},
   "source": [
    "### Result Analysis\n",
    "#### Effect Size Tests\n",
    "For each of your evaluation metrics, give a 95% confidence interval around the difference between the experiment and control groups. Indicate whether each metric is statistically and practically significant."
   ]
  },
  {
   "cell_type": "markdown",
   "metadata": {},
   "source": [
    "Still don't use Bonferroni correction (the same reason)."
   ]
  },
  {
   "cell_type": "code",
   "execution_count": 18,
   "metadata": {
    "collapsed": false
   },
   "outputs": [
    {
     "name": "stdout",
     "output_type": "stream",
     "text": [
      "0.2086\n"
     ]
    }
   ],
   "source": [
    "# Gross conversion\n",
    "p_hat_gross_conversion = round((enrollments_control+enrollments_experiment)/(clicks_after_payments_control+clicks_after_payments_experiment),4)\n",
    "print p_hat_gross_conversion"
   ]
  },
  {
   "cell_type": "code",
   "execution_count": 19,
   "metadata": {
    "collapsed": false
   },
   "outputs": [
    {
     "name": "stdout",
     "output_type": "stream",
     "text": [
      "(-0.0292, -0.012)\n"
     ]
    }
   ],
   "source": [
    "SE_gross_conversion = standart_deviation(p_hat_gross_conversion,clicks_after_payments_control*clicks_after_payments_experiment/(clicks_after_payments_control + clicks_after_payments_experiment))\n",
    "d_hat_gross_conversion = round(enrollments_experiment/clicks_after_payments_experiment - enrollments_control/clicks_after_payments_control,4)\n",
    "CI = confidence_interval(d_hat_gross_conversion, SE_gross_conversion, 1.96)\n",
    "print CI"
   ]
  },
  {
   "cell_type": "code",
   "execution_count": 20,
   "metadata": {
    "collapsed": false
   },
   "outputs": [
    {
     "name": "stdout",
     "output_type": "stream",
     "text": [
      "Statistically significant: True\n",
      "Practically significant: True\n"
     ]
    }
   ],
   "source": [
    "d_min = -0.01\n",
    "\n",
    "print \"Statistically significant: %s\" % (0 < CI[0] or 0 > CI[1])\n",
    "print \"Practically significant: %s\" % (d_min > CI[0] or d_min > CI[1])"
   ]
  },
  {
   "cell_type": "code",
   "execution_count": 21,
   "metadata": {
    "collapsed": false
   },
   "outputs": [
    {
     "name": "stdout",
     "output_type": "stream",
     "text": [
      "0.1151\n"
     ]
    }
   ],
   "source": [
    "# Net conversion\n",
    "p_hat_net_conversion = round((payments_control+payments_experiment)/(clicks_after_payments_control+clicks_after_payments_experiment),4)\n",
    "print p_hat_net_conversion"
   ]
  },
  {
   "cell_type": "code",
   "execution_count": 22,
   "metadata": {
    "collapsed": false
   },
   "outputs": [
    {
     "name": "stdout",
     "output_type": "stream",
     "text": [
      "(-0.0116, 0.0018)\n"
     ]
    }
   ],
   "source": [
    "SE_net_conversion = standart_deviation(p_hat_net_conversion,clicks_after_payments_control*clicks_after_payments_experiment/(clicks_after_payments_control + clicks_after_payments_experiment))\n",
    "d_hat_net_conversion = round(payments_experiment/clicks_after_payments_experiment - payments_control/clicks_after_payments_control,4)\n",
    "CI = confidence_interval(d_hat_net_conversion, SE_net_conversion, 1.96)\n",
    "print CI"
   ]
  },
  {
   "cell_type": "code",
   "execution_count": 23,
   "metadata": {
    "collapsed": false
   },
   "outputs": [
    {
     "name": "stdout",
     "output_type": "stream",
     "text": [
      "Statistically significant: False\n",
      "Practically significant: False\n"
     ]
    }
   ],
   "source": [
    "d_min = -0.075\n",
    "\n",
    "print \"Statistically significant: %s\" % (0 < CI[0] or 0 > CI[1])\n",
    "print \"Practically significant: %s\" % (d_min > CI[0] or d_min > CI[1])"
   ]
  },
  {
   "cell_type": "markdown",
   "metadata": {},
   "source": [
    "#### Sign Tests\n",
    "For each of your evaluation metrics, do a sign test using the day-by-day data, and report the p-value of the sign test and whether the result is statistically significant."
   ]
  },
  {
   "cell_type": "markdown",
   "metadata": {},
   "source": [
    "http://graphpad.com/quickcalcs/binomial1.cfm is using"
   ]
  },
  {
   "cell_type": "code",
   "execution_count": 24,
   "metadata": {
    "collapsed": false
   },
   "outputs": [],
   "source": [
    "# gross_conversion = enrollments / clicks\n",
    "# gross_conversion = payments / clicks\n",
    "gross_conversion_control = {k: round(float(v[2])/float(v[1]),4) for k,v in control_dict.items() if v[1]!='' and v[2]!=''}\n",
    "net_conversion_control = {k: round(float(v[3])/float(v[1]),4) for k,v in control_dict.items() if v[1]!='' and v[3]!=''}\n",
    "gross_conversion_experiment = {k: round(float(v[2])/float(v[1]),4) for k,v in experiment_dict.items() if v[1]!='' and v[2]!=''}\n",
    "net_conversion_experiment = {k: round(float(v[3])/float(v[1]),4) for k,v in experiment_dict.items() if v[1]!='' and v[3]!=''}"
   ]
  },
  {
   "cell_type": "code",
   "execution_count": 25,
   "metadata": {
    "collapsed": false
   },
   "outputs": [
    {
     "data": {
      "text/plain": [
       "23"
      ]
     },
     "execution_count": 25,
     "metadata": {},
     "output_type": "execute_result"
    }
   ],
   "source": [
    "len(gross_conversion_control)"
   ]
  },
  {
   "cell_type": "code",
   "execution_count": 26,
   "metadata": {
    "collapsed": false
   },
   "outputs": [],
   "source": [
    "gross_conversion_successes = len([k for k in gross_conversion_experiment.keys() if (gross_conversion_experiment[k]-gross_conversion_control[k])>0])"
   ]
  },
  {
   "cell_type": "code",
   "execution_count": 27,
   "metadata": {
    "collapsed": false
   },
   "outputs": [
    {
     "data": {
      "text/plain": [
       "False"
      ]
     },
     "execution_count": 27,
     "metadata": {},
     "output_type": "execute_result"
    }
   ],
   "source": [
    "(gross_conversion_experiment[u'Thu, Oct 16']-gross_conversion_control[u'Thu, Oct 16'])>0"
   ]
  },
  {
   "cell_type": "code",
   "execution_count": 28,
   "metadata": {
    "collapsed": false
   },
   "outputs": [
    {
     "data": {
      "text/plain": [
       "4"
      ]
     },
     "execution_count": 28,
     "metadata": {},
     "output_type": "execute_result"
    }
   ],
   "source": [
    "gross_conversion_successes"
   ]
  },
  {
   "cell_type": "markdown",
   "metadata": {},
   "source": [
    "Using http://graphpad.com/quickcalcs/binomial1.cfm, P value is 0.0026 < 0.05 => OK"
   ]
  },
  {
   "cell_type": "code",
   "execution_count": 29,
   "metadata": {
    "collapsed": true
   },
   "outputs": [],
   "source": [
    "net_conversion_successes = len([k for k in net_conversion_experiment.keys() if (net_conversion_experiment[k]-net_conversion_control[k])>0])"
   ]
  },
  {
   "cell_type": "code",
   "execution_count": 30,
   "metadata": {
    "collapsed": false
   },
   "outputs": [
    {
     "data": {
      "text/plain": [
       "10"
      ]
     },
     "execution_count": 30,
     "metadata": {},
     "output_type": "execute_result"
    }
   ],
   "source": [
    "net_conversion_successes"
   ]
  },
  {
   "cell_type": "markdown",
   "metadata": {},
   "source": [
    "Using the same tool, P value is 0.6776 > 0.05 => The difference is not significant"
   ]
  },
  {
   "cell_type": "markdown",
   "metadata": {
    "collapsed": true
   },
   "source": [
    "#### Summary\n",
    "If there are any discrepancies between the effect size hypothesis tests and the sign tests, describe the discrepancy and why you think it arose."
   ]
  },
  {
   "cell_type": "markdown",
   "metadata": {},
   "source": [
    "Gross conversion significantly decreases but net conversion does not significantly decrease. Therefore the change would reduce #enrollments that don't pay, but doesn't reduce enrollment that pay. "
   ]
  },
  {
   "cell_type": "markdown",
   "metadata": {
    "collapsed": true
   },
   "source": [
    "### Recommendation"
   ]
  },
  {
   "cell_type": "markdown",
   "metadata": {},
   "source": [
    "In order to except the change all evaluation metrics (gross and net conversions) need to be relevant, but this is not the case. So the recommendation is not to launch it."
   ]
  },
  {
   "cell_type": "markdown",
   "metadata": {},
   "source": [
    "## Follow-Up Experiment\n",
    "Give a high-level description of the follow up experiment you would run, what your hypothesis would be, what metrics you would want to measure, what your unit of diversion would be, and your reasoning for these choices."
   ]
  },
  {
   "cell_type": "markdown",
   "metadata": {},
   "source": [
    "One should re-consider the change and the metrics: \n",
    "<ul>\n",
    "<li>if a user-id may be used as a unit of diversion (more stable than cookies),</li>\n",
    "<li>if it's possible to use another evaluation metric (like how many hours per day user is online, how many days between enrolling and cancelling the enrollments, etc.),</li>\n",
    "<li>the alternative change can be \"trial period\".</li>\n",
    "</ul>"
   ]
  },
  {
   "cell_type": "code",
   "execution_count": null,
   "metadata": {
    "collapsed": true
   },
   "outputs": [],
   "source": []
  }
 ],
 "metadata": {
  "kernelspec": {
   "display_name": "Python 2",
   "language": "python",
   "name": "python2"
  },
  "language_info": {
   "codemirror_mode": {
    "name": "ipython",
    "version": 2
   },
   "file_extension": ".py",
   "mimetype": "text/x-python",
   "name": "python",
   "nbconvert_exporter": "python",
   "pygments_lexer": "ipython2",
   "version": "2.7.10"
  }
 },
 "nbformat": 4,
 "nbformat_minor": 0
}
