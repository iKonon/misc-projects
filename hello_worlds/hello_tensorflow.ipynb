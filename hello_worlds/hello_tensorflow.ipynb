{
 "cells": [
  {
   "cell_type": "markdown",
   "metadata": {},
   "source": [
    "Prepared by Aaron Schumacher\n",
    "https://www.oreilly.com/learning/hello-tensorflow"
   ]
  },
  {
   "cell_type": "code",
   "execution_count": 1,
   "metadata": {
    "collapsed": true
   },
   "outputs": [],
   "source": [
    "import tensorflow as tf\n",
    "\n",
    "x = tf.constant(1.0, name='input')\n",
    "w = tf.Variable(0.8, name='weight')\n",
    "y = tf.mul(w, x, name='output')\n",
    "y_ = tf.constant(0.0, name='correct_value')\n",
    "loss = tf.pow(y - y_, 2, name='loss')\n",
    "train_step = tf.train.GradientDescentOptimizer(0.025).minimize(loss)\n",
    "\n",
    "for value in [x, w, y, y_, loss]:\n",
    "    tf.scalar_summary(value.op.name, value)\n",
    "\n",
    "summaries = tf.merge_all_summaries()\n",
    "\n",
    "sess = tf.Session()\n",
    "summary_writer = tf.train.SummaryWriter('log_simple_stats', sess.graph)\n",
    "\n",
    "sess.run(tf.initialize_all_variables())\n",
    "for i in range(100):\n",
    "    summary_writer.add_summary(sess.run(summaries), i)\n",
    "    sess.run(train_step)"
   ]
  },
  {
   "cell_type": "markdown",
   "metadata": {},
   "source": [
    "## Step by step"
   ]
  },
  {
   "cell_type": "markdown",
   "metadata": {},
   "source": [
    "**Note:** Names have objects; objects don't have names."
   ]
  },
  {
   "cell_type": "code",
   "execution_count": 1,
   "metadata": {
    "collapsed": false
   },
   "outputs": [
    {
     "data": {
      "text/plain": [
       "True"
      ]
     },
     "execution_count": 1,
     "metadata": {},
     "output_type": "execute_result"
    }
   ],
   "source": [
    "foo = []\n",
    "bar = foo\n",
    "foo == bar\n",
    "foo is bar # True, since the both point at the same list object"
   ]
  },
  {
   "cell_type": "code",
   "execution_count": 2,
   "metadata": {
    "collapsed": false
   },
   "outputs": [
    {
     "name": "stdout",
     "output_type": "stream",
     "text": [
      "4568553664 4568553664\n"
     ]
    }
   ],
   "source": [
    "print id(foo), id(bar)"
   ]
  },
  {
   "cell_type": "code",
   "execution_count": 3,
   "metadata": {
    "collapsed": false
   },
   "outputs": [
    {
     "data": {
      "text/plain": [
       "[[...]]"
      ]
     },
     "execution_count": 3,
     "metadata": {},
     "output_type": "execute_result"
    }
   ],
   "source": [
    "# Nesting lists is one way to represent a graph structure like a TensorFlow computation graph.\n",
    "# Put a list inside itself, ~ a graph with one node, pointing to itself\n",
    "foo.append(bar) \n",
    "foo"
   ]
  },
  {
   "cell_type": "code",
   "execution_count": 4,
   "metadata": {
    "collapsed": true
   },
   "outputs": [],
   "source": [
    "import tensorflow as tf"
   ]
  },
  {
   "cell_type": "code",
   "execution_count": 5,
   "metadata": {
    "collapsed": false
   },
   "outputs": [
    {
     "data": {
      "text/plain": [
       "[]"
      ]
     },
     "execution_count": 5,
     "metadata": {},
     "output_type": "execute_result"
    }
   ],
   "source": [
    "# An implicit default graph of interacting operations that run entirely outside Python.\n",
    "graph = tf.get_default_graph() \n",
    "# Nodes of the TensorFlow graph are called “operations” or “ops”.\n",
    "graph.get_operations() "
   ]
  },
  {
   "cell_type": "code",
   "execution_count": 6,
   "metadata": {
    "collapsed": false
   },
   "outputs": [
    {
     "data": {
      "text/plain": [
       "<tf.Tensor 'Const:0' shape=() dtype=float32>"
      ]
     },
     "execution_count": 6,
     "metadata": {},
     "output_type": "execute_result"
    }
   ],
   "source": [
    "input_value = tf.constant(1.0) # that constant now lives as a node, an operation, in the graph\n",
    "input_value # a constant 32-bit float tensor of no dimension"
   ]
  },
  {
   "cell_type": "code",
   "execution_count": 7,
   "metadata": {
    "collapsed": false
   },
   "outputs": [
    {
     "data": {
      "text/plain": [
       "[<tensorflow.python.framework.ops.Operation at 0x1190be7d0>]"
      ]
     },
     "execution_count": 7,
     "metadata": {},
     "output_type": "execute_result"
    }
   ],
   "source": [
    "operations = graph.get_operations()\n",
    "operations"
   ]
  },
  {
   "cell_type": "code",
   "execution_count": 8,
   "metadata": {
    "collapsed": false
   },
   "outputs": [
    {
     "data": {
      "text/plain": [
       "name: \"Const\"\n",
       "op: \"Const\"\n",
       "attr {\n",
       "  key: \"dtype\"\n",
       "  value {\n",
       "    type: DT_FLOAT\n",
       "  }\n",
       "}\n",
       "attr {\n",
       "  key: \"value\"\n",
       "  value {\n",
       "    tensor {\n",
       "      dtype: DT_FLOAT\n",
       "      tensor_shape {\n",
       "      }\n",
       "      float_val: 1.0\n",
       "    }\n",
       "  }\n",
       "}"
      ]
     },
     "execution_count": 8,
     "metadata": {},
     "output_type": "execute_result"
    }
   ],
   "source": [
    "operations[0].node_def # what's in TensorFlow's protocol buffer representation for the number one"
   ]
  },
  {
   "cell_type": "code",
   "execution_count": 9,
   "metadata": {
    "collapsed": false
   },
   "outputs": [
    {
     "data": {
      "text/plain": [
       "1.0"
      ]
     },
     "execution_count": 9,
     "metadata": {},
     "output_type": "execute_result"
    }
   ],
   "source": [
    "sess = tf.Session() # the session picks up the default graph by default\n",
    "sess.run(input_value) # explicitly ask to evaluate input_value"
   ]
  },
  {
   "cell_type": "code",
   "execution_count": 10,
   "metadata": {
    "collapsed": true
   },
   "outputs": [],
   "source": [
    "# The simplest TensorFlow neuron with just one parameter, or weight.\n",
    "# Often, even simple neurons also have a bias term and a non-identity activation function.\n",
    "# The neuron's weight isn't going to be constant.\n",
    "# We expect it to change in order to learn based on the “true” input and output used for training. \n",
    "# The weight will be a TensorFlow variable. \n",
    "# We'll give that variable a starting value of 0.8.\n",
    "weight = tf.Variable(0.8)"
   ]
  },
  {
   "cell_type": "code",
   "execution_count": 11,
   "metadata": {
    "collapsed": false
   },
   "outputs": [
    {
     "name": "stdout",
     "output_type": "stream",
     "text": [
      "Const\n",
      "Variable/initial_value\n",
      "Variable\n",
      "Variable/Assign\n",
      "Variable/read\n"
     ]
    }
   ],
   "source": [
    "for op in graph.get_operations(): print(op.name)"
   ]
  },
  {
   "cell_type": "code",
   "execution_count": 12,
   "metadata": {
    "collapsed": false
   },
   "outputs": [],
   "source": [
    "output_value = weight * input_value"
   ]
  },
  {
   "cell_type": "code",
   "execution_count": 13,
   "metadata": {
    "collapsed": false
   },
   "outputs": [
    {
     "name": "stdout",
     "output_type": "stream",
     "text": [
      "Const\n",
      "Variable/initial_value\n",
      "Variable\n",
      "Variable/Assign\n",
      "Variable/read\n",
      "mul\n"
     ]
    }
   ],
   "source": [
    "for op in graph.get_operations(): print(op.name)"
   ]
  },
  {
   "cell_type": "code",
   "execution_count": 14,
   "metadata": {
    "collapsed": false
   },
   "outputs": [
    {
     "data": {
      "text/plain": [
       "u'mul'"
      ]
     },
     "execution_count": 14,
     "metadata": {},
     "output_type": "execute_result"
    }
   ],
   "source": [
    "op = graph.get_operations()[-1]\n",
    "op.name"
   ]
  },
  {
   "cell_type": "code",
   "execution_count": 15,
   "metadata": {
    "collapsed": false
   },
   "outputs": [
    {
     "name": "stdout",
     "output_type": "stream",
     "text": [
      "Tensor(\"Variable/read:0\", shape=(), dtype=float32)\n",
      "Tensor(\"Const:0\", shape=(), dtype=float32)\n"
     ]
    }
   ],
   "source": [
    "for op_input in op.inputs: print(op_input)"
   ]
  },
  {
   "cell_type": "code",
   "execution_count": 16,
   "metadata": {
    "collapsed": true
   },
   "outputs": [],
   "source": [
    "init = tf.initialize_all_variables() # generates an operation which will initialize all variables\n",
    "sess.run(init)"
   ]
  },
  {
   "cell_type": "markdown",
   "metadata": {},
   "source": [
    "The result of tf.initialize_all_variables() will include initializers for all the variables currently in the graph, so if you add more variables you'll want to use tf.initialize_all_variables() again; a stale init wouldn't include the new variables."
   ]
  },
  {
   "cell_type": "code",
   "execution_count": 17,
   "metadata": {
    "collapsed": false
   },
   "outputs": [
    {
     "data": {
      "text/plain": [
       "0.80000001"
      ]
     },
     "execution_count": 17,
     "metadata": {},
     "output_type": "execute_result"
    }
   ],
   "source": [
    "sess.run(output_value) # 0.8 * 1.0 with 32-bit floats"
   ]
  },
  {
   "cell_type": "code",
   "execution_count": 18,
   "metadata": {
    "collapsed": true
   },
   "outputs": [],
   "source": [
    "# TensorBoard reads the name field that is stored inside each operation.\n",
    "x = tf.constant(1.0, name='input')\n",
    "w = tf.Variable(0.8, name='weight')\n",
    "y = tf.mul(w, x, name='output')"
   ]
  },
  {
   "cell_type": "code",
   "execution_count": 19,
   "metadata": {
    "collapsed": true
   },
   "outputs": [],
   "source": [
    "# The first argument when creating the SummaryWriter is an output directory name, \n",
    "# which will be created if it doesn't exist.\n",
    "summary_writer = tf.train.SummaryWriter('log_simple_graph', sess.graph)"
   ]
  },
  {
   "cell_type": "markdown",
   "metadata": {},
   "source": [
    "tensorboard --logdir=log_simple_graph"
   ]
  },
  {
   "cell_type": "code",
   "execution_count": 20,
   "metadata": {
    "collapsed": true
   },
   "outputs": [],
   "source": [
    "# We want the neuron to learn the function taking one to zero.\n",
    "y_ = tf.constant(0.0)\n",
    "# The goal is to minimize the loss\n",
    "loss = (y - y_)**2"
   ]
  },
  {
   "cell_type": "code",
   "execution_count": 21,
   "metadata": {
    "collapsed": true
   },
   "outputs": [],
   "source": [
    "# Gradient descent optimizer so that we can update the weight based on the derivative of the loss. \n",
    "# The optimizer takes a learning rate to moderate the size of the updates.\n",
    "optim = tf.train.GradientDescentOptimizer(learning_rate=0.025)"
   ]
  },
  {
   "cell_type": "code",
   "execution_count": 22,
   "metadata": {
    "collapsed": false
   },
   "outputs": [
    {
     "data": {
      "text/plain": [
       "1.6"
      ]
     },
     "execution_count": 22,
     "metadata": {},
     "output_type": "execute_result"
    }
   ],
   "source": [
    "grads_and_vars = optim.compute_gradients(loss)\n",
    "sess.run(tf.initialize_all_variables())\n",
    "sess.run(grads_and_vars[1][0]) # at this step = 0.8**2"
   ]
  },
  {
   "cell_type": "code",
   "execution_count": 20,
   "metadata": {
    "collapsed": false
   },
   "outputs": [
    {
     "data": {
      "text/plain": [
       "0.75999999"
      ]
     },
     "execution_count": 20,
     "metadata": {},
     "output_type": "execute_result"
    }
   ],
   "source": [
    "# Let's apply the gradient, finishing the backpropagation.\n",
    "# The optimizer subtracted the gradient times the learning rate, 1.6 * 0.025, \n",
    "# pushing the weight in the right direction.\n",
    "sess.run(optim.apply_gradients(grads_and_vars))\n",
    "sess.run(w)"
   ]
  },
  {
   "cell_type": "code",
   "execution_count": 21,
   "metadata": {
    "collapsed": false
   },
   "outputs": [
    {
     "data": {
      "text/plain": [
       "0.0044996012"
      ]
     },
     "execution_count": 21,
     "metadata": {},
     "output_type": "execute_result"
    }
   ],
   "source": [
    "# The training loop.\n",
    "train_step = tf.train.GradientDescentOptimizer(0.025).minimize(loss)\n",
    "for i in range(100):\n",
    "    sess.run(train_step)\n",
    "\n",
    "sess.run(y)"
   ]
  },
  {
   "cell_type": "code",
   "execution_count": 22,
   "metadata": {
    "collapsed": false
   },
   "outputs": [
    {
     "name": "stdout",
     "output_type": "stream",
     "text": [
      "before step 0, y is 0.800000011921\n",
      "before step 1, y is 0.759999990463\n",
      "before step 2, y is 0.722000002861\n",
      "before step 3, y is 0.685899972916\n",
      "before step 4, y is 0.651604950428\n",
      "before step 5, y is 0.619024693966\n",
      "before step 6, y is 0.588073432446\n",
      "before step 7, y is 0.558669745922\n",
      "before step 8, y is 0.530736267567\n",
      "before step 9, y is 0.504199445248\n",
      "before step 10, y is 0.478989481926\n",
      "before step 11, y is 0.45504000783\n",
      "before step 12, y is 0.432288020849\n",
      "before step 13, y is 0.410673618317\n",
      "before step 14, y is 0.390139937401\n",
      "before step 15, y is 0.370632946491\n",
      "before step 16, y is 0.352101296186\n",
      "before step 17, y is 0.334496229887\n",
      "before step 18, y is 0.317771404982\n",
      "before step 19, y is 0.301882833242\n",
      "before step 20, y is 0.286788702011\n",
      "before step 21, y is 0.27244925499\n",
      "before step 22, y is 0.25882679224\n",
      "before step 23, y is 0.245885446668\n",
      "before step 24, y is 0.233591169119\n",
      "before step 25, y is 0.221911609173\n",
      "before step 26, y is 0.210816025734\n",
      "before step 27, y is 0.200275227427\n",
      "before step 28, y is 0.190261468291\n",
      "before step 29, y is 0.180748388171\n",
      "before step 30, y is 0.171710968018\n",
      "before step 31, y is 0.163125425577\n",
      "before step 32, y is 0.154969155788\n",
      "before step 33, y is 0.147220700979\n",
      "before step 34, y is 0.13985966146\n",
      "before step 35, y is 0.132866680622\n",
      "before step 36, y is 0.126223340631\n",
      "before step 37, y is 0.119912177324\n",
      "before step 38, y is 0.113916568458\n",
      "before step 39, y is 0.108220741153\n",
      "before step 40, y is 0.10280970484\n",
      "before step 41, y is 0.0976692214608\n",
      "before step 42, y is 0.0927857607603\n",
      "before step 43, y is 0.0881464704871\n",
      "before step 44, y is 0.0837391465902\n",
      "before step 45, y is 0.0795521885157\n",
      "before step 46, y is 0.0755745768547\n",
      "before step 47, y is 0.0717958509922\n",
      "before step 48, y is 0.0682060569525\n",
      "before step 49, y is 0.0647957548499\n",
      "before step 50, y is 0.0615559667349\n",
      "before step 51, y is 0.0584781691432\n",
      "before step 52, y is 0.0555542595685\n",
      "before step 53, y is 0.0527765452862\n",
      "before step 54, y is 0.0501377172768\n",
      "before step 55, y is 0.0476308315992\n",
      "before step 56, y is 0.0452492907643\n",
      "before step 57, y is 0.0429868251085\n",
      "before step 58, y is 0.0408374853432\n",
      "before step 59, y is 0.0387956127524\n",
      "before step 60, y is 0.0368558317423\n",
      "before step 61, y is 0.0350130386651\n",
      "before step 62, y is 0.0332623869181\n",
      "before step 63, y is 0.0315992683172\n",
      "before step 64, y is 0.0300193056464\n",
      "before step 65, y is 0.028518339619\n",
      "before step 66, y is 0.02709242329\n",
      "before step 67, y is 0.0257378015667\n",
      "before step 68, y is 0.024450911209\n",
      "before step 69, y is 0.0232283659279\n",
      "before step 70, y is 0.0220669470727\n",
      "before step 71, y is 0.0209635999054\n",
      "before step 72, y is 0.019915420562\n",
      "before step 73, y is 0.0189196504653\n",
      "before step 74, y is 0.0179736688733\n",
      "before step 75, y is 0.0170749854296\n",
      "before step 76, y is 0.0162212364376\n",
      "before step 77, y is 0.0154101746157\n",
      "before step 78, y is 0.014639666304\n",
      "before step 79, y is 0.0139076830819\n",
      "before step 80, y is 0.0132122989744\n",
      "before step 81, y is 0.0125516839325\n",
      "before step 82, y is 0.0119241001084\n",
      "before step 83, y is 0.0113278953359\n",
      "before step 84, y is 0.0107615003362\n",
      "before step 85, y is 0.0102234249935\n",
      "before step 86, y is 0.00971225369722\n",
      "before step 87, y is 0.00922664068639\n",
      "before step 88, y is 0.00876530818641\n",
      "before step 89, y is 0.00832704268396\n",
      "before step 90, y is 0.00791069027036\n",
      "before step 91, y is 0.00751515571028\n",
      "before step 92, y is 0.00713939778507\n",
      "before step 93, y is 0.00678242789581\n",
      "before step 94, y is 0.00644330633804\n",
      "before step 95, y is 0.00612114090472\n",
      "before step 96, y is 0.00581508409232\n",
      "before step 97, y is 0.00552432984114\n",
      "before step 98, y is 0.00524811353534\n",
      "before step 99, y is 0.00498570781201\n"
     ]
    }
   ],
   "source": [
    "# We want to follow what our system is predicting at every training step. \n",
    "sess.run(tf.initialize_all_variables())\n",
    "for i in range(100):\n",
    "    print('before step {}, y is {}'.format(i, sess.run(y)))\n",
    "    sess.run(train_step)"
   ]
  },
  {
   "cell_type": "code",
   "execution_count": 23,
   "metadata": {
    "collapsed": true
   },
   "outputs": [],
   "source": [
    "# The computation graph by adding operations that summarize its state. \n",
    "# Create an operation that reports the current value of y, the neuron's current output.\n",
    "summary_y = tf.scalar_summary('output', y)"
   ]
  },
  {
   "cell_type": "code",
   "execution_count": 24,
   "metadata": {
    "collapsed": true
   },
   "outputs": [],
   "source": [
    "# Returns a string of protocol buffer text \n",
    "# that can be written to a log directory with a SummaryWriter.\n",
    "summary_writer = tf.train.SummaryWriter('log_simple_stats')\n",
    "sess.run(tf.initialize_all_variables())\n",
    "for i in range(100):\n",
    "    summary_str = sess.run(summary_y)\n",
    "    summary_writer.add_summary(summary_str, i)\n",
    "    sess.run(train_step)"
   ]
  },
  {
   "cell_type": "code",
   "execution_count": null,
   "metadata": {
    "collapsed": true
   },
   "outputs": [],
   "source": []
  }
 ],
 "metadata": {
  "kernelspec": {
   "display_name": "Python 2",
   "language": "python",
   "name": "python2"
  },
  "language_info": {
   "codemirror_mode": {
    "name": "ipython",
    "version": 2
   },
   "file_extension": ".py",
   "mimetype": "text/x-python",
   "name": "python",
   "nbconvert_exporter": "python",
   "pygments_lexer": "ipython2",
   "version": "2.7.10"
  }
 },
 "nbformat": 4,
 "nbformat_minor": 1
}
