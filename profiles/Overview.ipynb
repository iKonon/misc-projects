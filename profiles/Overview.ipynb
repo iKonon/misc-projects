{
 "cells": [
  {
   "cell_type": "markdown",
   "metadata": {},
   "source": [
    "There are a lot of papers to analyze users by their web cites visits while more than half\n",
    "of digital traffic online now comes from mobile devices and through mobile apps (based\n",
    "on [comScore report](http://www.comscore.com/Insights/Blog/Major-Mobile-Milestones-in-May-Apps-Now-Drive-Half-of-All-Time-Spent-on-Digital))."
   ]
  },
  {
   "cell_type": "markdown",
   "metadata": {},
   "source": [
    "The goal is to predict the demographic and life style profiles of users based on their\n",
    "previous locations and past behavior at a certain hour of a day.\n",
    "In case if we have additional context (like any truth set, or application used, user’s\n",
    "tweets, etc.) we could tune the model."
   ]
  },
  {
   "cell_type": "markdown",
   "metadata": {},
   "source": [
    "As a first step, let’s imagine we have a data set that contains user id, timestamp and\n",
    "location (latitude/longitude pair)."
   ]
  },
  {
   "cell_type": "markdown",
   "metadata": {},
   "source": [
    "1) Detect “frequent spots”:\n",
    "<ul>\n",
    "<li>cluster data using KMeans algorithm (represent users trajectories as fixed-length\n",
    "vectors of coordinates and then compare such vectors by means of Euclidean\n",
    "distance) or (as another approach) using Hidden Markov models</li>\n",
    "<li>detect multiple interleaved periods using Fourier Transform and autocorrelation</li>\n",
    "</ul>"
   ]
  },
  {
   "cell_type": "markdown",
   "metadata": {},
   "source": [
    "| record    | user    | timestamp           | latitude  | longitude   |\n",
    "|-----------|---------|---------------------|-----------|-------------|\n",
    "| $r_1$     | $u_1$   | 2016-05-09 09:00:00 | 37.786137 | -122.409143 |\n",
    "| $r_2$     | $u_1$   | 2016-05-09 09:30:00 | 37.785737 | -122.410922 |\n",
    "| $r_3$     | $u_1$   | 2016-05-09 13:00:00 | 37.787011 | -122.406039 |\n",
    "| $r_4$     | $u_2$   | 2016-03-26 12:45:00 | 37.786200 | -122.40960  |\n",
    "| $r_5$     | $u_3$   | 2016-03-01 17:15:00 | 37.785934 | -122.411144 |"
   ]
  },
  {
   "cell_type": "markdown",
   "metadata": {},
   "source": [
    "2) Label the spots based on timestamps and external context available (like type of location from GooglePlacesAPI): “Office”, “Home”, “Shopping Mall” etc."
   ]
  },
  {
   "cell_type": "markdown",
   "metadata": {},
   "source": [
    "| record    | annotation                                           |\n",
    "|-----------|------------------------------------------------------|\n",
    "| $r_1$     | San Francisco, Starbucks, coffeehouse, working hours |\n",
    "| $r_2$     | San Francisco, Hilton, hotel, working hours          |\n",
    "| $r_3$     | San Francisco, Macy's, department store, lunch time  |\n",
    "| $r_4$     | San Francisco, road                                  |\n",
    "| $r_5$     | San Francisco, FedEx                                 |"
   ]
  },
  {
   "cell_type": "markdown",
   "metadata": {},
   "source": [
    "3) Predict user profiles using decision trees with generative grammar component (associative rules, NLP are applicable)."
   ]
  },
  {
   "cell_type": "markdown",
   "metadata": {},
   "source": [
    "##### High-level examples\n",
    "<ul>\n",
    "<li>Frequent visits to “Victoria Secret” => Gender: female</li>\n",
    "<li>Frequent visits to Chinese, Japanese restaurants => Food interest: Asian</li>\n",
    "</ul>"
   ]
  },
  {
   "cell_type": "markdown",
   "metadata": {},
   "source": [
    "Let’s consider a finite set of users $U$, a finite set of profiles $P$ and describe a finite set of rules $u_i \\rightarrow \\phi$, where $u_i \\in U$ and $\\phi \\in P$."
   ]
  },
  {
   "cell_type": "markdown",
   "metadata": {},
   "source": [
    "##### Example\n",
    "Suppose we have users $(u_1, u_2, u_3, u_4, u_5)$ and the following rules:"
   ]
  },
  {
   "cell_type": "markdown",
   "metadata": {},
   "source": [
    "| Conditional rules                                    | Decision rules                                            |\n",
    "|------------------------------------------------------|-----------------------------------------------------------|\n",
    "| $u_1 \\mid (s_1=(+) \\wedge s_2=(-)) \\rightarrow \\phi_{11}$ | $u_1 \\mid (\\phi_1 = \\phi_{11}) \\Rightarrow (s_3 := (+))$         |\n",
    "| $u_1 \\mid  (s_1=(+) \\wedge s_2=(+)) \\rightarrow \\phi_{12}$ | $u_1 \\mid (\\phi_1 = \\phi_{12}) \\Rightarrow (s_3:= (-))$         |\n",
    "| $u_2 \\mid (s_3=(+) \\wedge s4=(+)) \\rightarrow \\phi_{21}$  | $u_2 \\mid (\\phi_2 = \\phi_{21}) \\Rightarrow (s_5=(+))$             |\n",
    "| $u_3 \\mid (s_4=(+)) \\rightarrow \\phi_{31}$              | $u_3 \\mid (\\phi_3 = \\phi_{31}) \\Rightarrow (s_2:= (-))$            |\n",
    "| $u_3 \\mid (s_4=(-)) \\rightarrow \\phi_{32}$              |                                                        |\n",
    "| $u_4 \\mid (s_6=(+)) \\rightarrow \\phi_{41}$              | $u_4 \\mid (\\phi_4 = \\phi_{41}) \\Rightarrow (s_1:= (-))$            |\n",
    "| $u_4 \\mid (s_6=(-)) \\rightarrow \\phi_{42}$        | $u_4 \\mid (\\phi_4 = \\phi_{42}) \\Rightarrow (s_1:= (+) \\wedge s_4:= (+))$ |\n",
    "| $u_5 \\mid (s_1=(+)) \\rightarrow \\phi_{51}$              | $u_5 \\mid (\\phi_5 = \\phi_{51}) \\Rightarrow (s_6:= (-))$            |\n",
    "| $u_5 \\mid (s_1=(-)) \\rightarrow \\phi_{52}$              | $u_5 \\mid (\\phi_5 = \\phi_{52}) \\Rightarrow (s_6:= (+))$            |"
   ]
  },
  {
   "cell_type": "markdown",
   "metadata": {},
   "source": [
    "Then the algorithm is as follows:"
   ]
  },
  {
   "cell_type": "markdown",
   "metadata": {},
   "source": [
    "| Setting |     |     |     |     |     | Profile $u_i$, Rule type | Hypothesis                                     |\n",
    "|---------|-----|-----|-----|-----|-----|-----------------------|------------------------------------------------|\n",
    "| $s_1$   |$s_2$|$s_3$|$s_4$|$s_5$|$s_6$| I                     |                                                |\n",
    "| .       | .   | .   | .   | .   | .   | -                     |                                                |\n",
    "| +       | -   | .   | .   | .   | .   | 1, cond.              | $H_1$: $s_1=(+) \\wedge s_2=(-)$                |\n",
    "| +       | -   | +   | .   | .   |     | 1, cond.              |                                                |\n",
    "| +       | -   | +   | +   | .   | .   | 2, cond.              | $H_2$: $s_4=(+)$                               |\n",
    "| +       | -   | +   | +   | +   | .   | 2, cond.              |                                                |\n",
    "| +       | -   | +   | +   | +   | .   | 3, cond.              |                                                |\n",
    "| +       | -   | +   | +   | +   | .   | 3, cond.              | Confirmation for $s_2=(-)$ in $H_1$            |\n",
    "| +       | -   | +   | +   | +   | +   | 4, cond.              | $H_3$: $s_6=(+)$                               |\n",
    "| -       | -   | +   | +   | +   | +   | 4, cond.              | Rejection for $s_1=(+)$ in $H_1$               |\n",
    "| +       | -   | +   | +   | +   | -   | 4, cond.              | $H_3$: $s_6=(-)$                               |\n",
    "| +       | -   | +   | +   | +   | -   | 4, cond.              | Confirmation for $s_1=(+)$ in $H_1$ and $s_4=(+)$ in $H_2$ |\n",
    "| +       | -   | +   | +   | +   | -   | 5, cond.              |                                                |\n",
    "| +       | -   | +   | +   | +   | -   | 5, cond.              | Confirmation for $s_6=(-)$ in $H_3$            |"
   ]
  },
  {
   "cell_type": "markdown",
   "metadata": {},
   "source": [
    "Therefore we obtain the following classification:"
   ]
  },
  {
   "cell_type": "markdown",
   "metadata": {},
   "source": [
    "| $u_1$       | $u_2$       | $u_3$       | $u_4$       | $u_5$       |\n",
    "|-------------|-------------|-------------|-------------|-------------|\n",
    "| $\\phi_{11}$ | $\\phi_{21}$ | $\\phi_{31}$ | $\\phi_{42}$ | $\\phi_{51}$ |"
   ]
  },
  {
   "cell_type": "markdown",
   "metadata": {},
   "source": [
    "##### Improvements and known issues:\n",
    "GPS accuracy. The United States government currently [claims](http://www.gps.gov/systems/gps/performance/accuracy/) 4 meter RMS (7.8 meter 95% Confidence Interval) horizontal accuracy for civilian (SPS) GPS. Vertical accuracy is worse. So in step 2, we need to use not latitude/longitude pair, but a circle with radius at least 8 meters (we choose 10 meters)."
   ]
  },
  {
   "cell_type": "markdown",
   "metadata": {},
   "source": [
    "For demographic profiles some open data sets can be used as the truth sets like:\n",
    "<ul>\n",
    "<li>http://proximityone.com/location_based_demographics.htm</li>\n",
    "<li>http://www.census.gov/topics/income-poverty/income.html</li>\n",
    "</ul>"
   ]
  },
  {
   "cell_type": "markdown",
   "metadata": {},
   "source": [
    "To smooth our probabilities in case of high deviations it worst to add some weights to every profile. As a first approach, for this step we need to estimate the\n",
    "overall population in the area using [deep learning model](http://journals.plos.org/ploscompbiol/article?id=10.1371/journal.pcbi.1004845)."
   ]
  },
  {
   "cell_type": "code",
   "execution_count": null,
   "metadata": {
    "collapsed": true
   },
   "outputs": [],
   "source": []
  }
 ],
 "metadata": {
  "kernelspec": {
   "display_name": "Python 2",
   "language": "python",
   "name": "python2"
  },
  "language_info": {
   "codemirror_mode": {
    "name": "ipython",
    "version": 2
   },
   "file_extension": ".py",
   "mimetype": "text/x-python",
   "name": "python",
   "nbconvert_exporter": "python",
   "pygments_lexer": "ipython2",
   "version": "2.7.10"
  }
 },
 "nbformat": 4,
 "nbformat_minor": 1
}
