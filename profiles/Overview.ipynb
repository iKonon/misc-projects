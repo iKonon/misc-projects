{
 "cells": [
  {
   "cell_type": "markdown",
   "metadata": {},
   "source": [
    "There are a lot of papers to analyze users by their web cites visits while more than half\n",
    "of digital traffic online now comes from mobile devices and through mobile apps (based\n",
    "on [comScore report](http://www.comscore.com/Insights/Blog/Major-Mobile-Milestones-in-May-Apps-Now-Drive-Half-of-All-Time-Spent-on-Digital))."
   ]
  },
  {
   "cell_type": "markdown",
   "metadata": {},
   "source": [
    "The goal is to predict the demographic and life style profiles of users based on their\n",
    "previous locations and past behavior at a certain hour of a day.\n",
    "In case if we have additional context (like any truth set, or application used, user’s\n",
    "tweets, etc.) we could tune the model."
   ]
  },
  {
   "cell_type": "markdown",
   "metadata": {},
   "source": [
    "As a first step, let’s imagine we have a data set that contains user id, timestamp and\n",
    "location (latitude/longitude pair)."
   ]
  },
  {
   "cell_type": "markdown",
   "metadata": {},
   "source": [
    "1) Detect “frequent spots”:\n",
    "<ul>\n",
    "<li>cluster data using KMeans algorithm (represent users trajectories as fixed-length\n",
    "vectors of coordinates and then compare such vectors by means of Euclidean\n",
    "distance) or (as another approach) using Hidden Markov models</li>\n",
    "<li>detect multiple interleaved periods using Fourier Transform and autocorrelation</li>\n",
    "</ul>"
   ]
  },
  {
   "cell_type": "markdown",
   "metadata": {},
   "source": [
    "| record | user | timestamp   | latitude  | longitude   |\n",
    "|--------|------|-------------|-----------|-------------|\n",
    "| r1     | u1   | 42499.375   | 37.786137 | -122.409143 |\n",
    "| r2     | u1   | 42499.39583 | 37.785737 | -122.410922 |\n",
    "| r3     | u1   | 42499.54167 | 37.787011 | -122.406039 |\n",
    "| r4     | u2   | 42455.53125 | 37.7862   | -122.4096   |\n",
    "| r5     | u3   | 42430.71875 | 37.785934 | -122.411144 |"
   ]
  },
  {
   "cell_type": "markdown",
   "metadata": {},
   "source": [
    "2) Label the spots based on timestamps and external context available (like type of location from GooglePlacesAPI): “Office”, “Home”, “Shopping Mall” etc."
   ]
  },
  {
   "cell_type": "markdown",
   "metadata": {},
   "source": [
    "| record | annotation                                           |\n",
    "|--------|------------------------------------------------------|\n",
    "| r1     | San Francisco, Starbucks, coffeehouse, working hours |\n",
    "| r2     | San Francisco, Hilton, hotel, working hours          |\n",
    "| r3     | San Francisco, Macy's, department store, lunch time  |\n",
    "| r4     | San Francisco, road                                  |\n",
    "| r5     | San Francisco, FedEx                                 |"
   ]
  },
  {
   "cell_type": "markdown",
   "metadata": {},
   "source": [
    "3) Predict user profiles using decision trees with generative grammar component (associative rules, NLP are applicable)."
   ]
  },
  {
   "cell_type": "markdown",
   "metadata": {},
   "source": [
    "##### High-level examples\n",
    "<ul>\n",
    "<li>Frequent visits to “Victoria Secret” => Gender: female</li>\n",
    "<li>Frequent visits to Chinese, Japanese restaurants => Food interest: Asian</li>\n",
    "</ul>"
   ]
  },
  {
   "cell_type": "markdown",
   "metadata": {},
   "source": [
    "Let’s consider a finite set of users $V_А$, a finite set of profiles $V_T$ and describe a finite set of rules А→φ, where А ∈ $V_А$ , φ ∈ $V_T$."
   ]
  },
  {
   "cell_type": "markdown",
   "metadata": {},
   "source": [
    "##### Example\n",
    "Suppose we have users (A1, A2, A3, A4, A5) and the following rules:"
   ]
  },
  {
   "cell_type": "markdown",
   "metadata": {},
   "source": [
    "| Conditional rules           | Decision rules                        |\n",
    "|-----------------------------|---------------------------------------|\n",
    "| A1 $|$ (s1=”+”  s2=”-”) → φ11 | A1 $|$ (φ1 = φ11) (s3 := “+”)           |\n",
    "| A1 $|$ (s1=”+”  s2=”+”) → φ12 | A1 $|$ (φ1 = φ12) (s3:= “-“)            |\n",
    "| A2 $|$ (s3=”+”  s4=”+”) → φ21 | A2 $|$ φ2 = φ21) (s5=”+”)               |\n",
    "| A3 $|$ (s4=”+”) → φ31         | A3 $|$ (φ3 = φ31) (s2:= “-“)            |\n",
    "| A3 $|$ (s4=”-”) → φ32         |                                       |\n",
    "| A4 $|$ (s6=”+”) → φ41         | A4 $|$ (φ4 = φ41) (s1:= “-“)            |\n",
    "| A4 $|$ (s6=”-”) → φ42         | A4 $|$ (φ4 = φ42) (s1:= “+“   s4:= “+“) |\n",
    "| A5 $|$ (s1=”+”) → φ51         | A5 $|$ (φ5 = φ51) (s6:= “-“)            |\n",
    "| A5 $|$ (s1=”-”) → φ52         | A5 $|$ (φ5 = φ52) (s6:= “+“)            |"
   ]
  },
  {
   "cell_type": "markdown",
   "metadata": {},
   "source": [
    "Then the algorithm is as follows:"
   ]
  },
  {
   "cell_type": "markdown",
   "metadata": {},
   "source": [
    "| Setting |    |    |    |    |    | Profile Ai, Rule type | Hypothesis                                     |\n",
    "|---------|----|----|----|----|----|-----------------------|------------------------------------------------|\n",
    "| s1      | s2 | s3 | s4 | s5 | s6 | I                     |                                                |\n",
    "| .       | .  | .  | .  | .  | .  | -                     |                                                |\n",
    "| +       | -  | .  | .  | .  | .  | 1, cond.              | H1 : s1=”+”  s2=”-”                            |\n",
    "| +       | -  | +  | .  | .  |    | 1, cond.              |                                                |\n",
    "| +       | -  | +  | +  | .  | .  | 2, cond.              | H2 : s4=”+”                                    |\n",
    "| +       | -  | +  | +  | +  | .  | 2, cond.              |                                                |\n",
    "| +       | -  | +  | +  | +  | .  | 3, cond.              |                                                |\n",
    "| +       | -  | +  | +  | +  | .  | 3, cond.              | Confirmation for  s2=”-” in H1                 |\n",
    "| +       | -  | +  | +  | +  | +  | 4, cond.              | H3 : s6=”+”                                    |\n",
    "| -       | -  | +  | +  | +  | +  | 4, cond.              | Rejection for s1=”+” in H1                     |\n",
    "| +       | -  | +  | +  | +  | -  | 4, cond.              | H3 : s6=”-”                                    |\n",
    "| +       | -  | +  | +  | +  | -  | 4, cond.              | Confirmation for s1=”+” in H1 and s4=”+” in H2 |\n",
    "| +       | -  | +  | +  | +  | -  | 5, cond.              |                                                |\n",
    "| +       | -  | +  | +  | +  | -  | 5, cond.              | Confirmation for s6=”-” in H3                  |"
   ]
  },
  {
   "cell_type": "markdown",
   "metadata": {},
   "source": [
    "Therefore we obtain the following classification:"
   ]
  },
  {
   "cell_type": "markdown",
   "metadata": {},
   "source": [
    "| A1  | A2  | A3  | A4  | A5  |\n",
    "|-----|-----|-----|-----|-----|\n",
    "| φ11 | φ21 | φ31 | φ42 | φ51 |"
   ]
  },
  {
   "cell_type": "markdown",
   "metadata": {},
   "source": [
    "Improvements and known issues:\n",
    "<ul>\n",
    "<li>GPS accuracy. The United States government currently [claims](http://www.gps.gov/systems/gps/performance/accuracy/) 4 meter RMS (7.8\n",
    "meter 95% Confidence Interval) horizontal accuracy for civilian (SPS) GPS.\n",
    "Vertical accuracy is worse. So in step 2, we need to use not latitude/longitude\n",
    "pair, but a circle with radius at least 8 meters (we choose 10 meters).</li>\n",
    "<li>For demographic profiles some open data sets can be used as the truth sets like:\n",
    "<ul>\n",
    "<li>http://proximityone.com/location_based_demographics.htm</li>\n",
    "<li>http://www.census.gov/topics/income-poverty/income.html</li>\n",
    "</ul>\n",
    "</li>\n",
    "<li>To smooth our probabilities in case of high deviations it worst to add some\n",
    "weights to every profile. As a first approach, for this step we need to estimate the\n",
    "overall population in the area using [deep learning model](http://journals.plos.org/ploscompbiol/article?id=10.1371/journal.pcbi.1004845).</li>\n",
    "</ul>"
   ]
  },
  {
   "cell_type": "code",
   "execution_count": null,
   "metadata": {
    "collapsed": true
   },
   "outputs": [],
   "source": []
  }
 ],
 "metadata": {
  "kernelspec": {
   "display_name": "Python 2",
   "language": "python",
   "name": "python2"
  },
  "language_info": {
   "codemirror_mode": {
    "name": "ipython",
    "version": 2
   },
   "file_extension": ".py",
   "mimetype": "text/x-python",
   "name": "python",
   "nbconvert_exporter": "python",
   "pygments_lexer": "ipython2",
   "version": "2.7.10"
  }
 },
 "nbformat": 4,
 "nbformat_minor": 1
}
