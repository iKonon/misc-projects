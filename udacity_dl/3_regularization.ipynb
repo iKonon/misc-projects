{
 "cells": [
  {
   "cell_type": "markdown",
   "metadata": {
    "colab_type": "text",
    "id": "kR-4eNdK6lYS"
   },
   "source": [
    "Deep Learning\n",
    "=============\n",
    "\n",
    "Assignment 3\n",
    "------------\n",
    "\n",
    "Previously in `2_fullyconnected.ipynb`, you trained a logistic regression and a neural network model.\n",
    "\n",
    "The goal of this assignment is to explore regularization techniques."
   ]
  },
  {
   "cell_type": "code",
   "execution_count": 1,
   "metadata": {
    "cellView": "both",
    "colab": {
     "autoexec": {
      "startup": false,
      "wait_interval": 0
     }
    },
    "colab_type": "code",
    "collapsed": true,
    "id": "JLpLa8Jt7Vu4"
   },
   "outputs": [],
   "source": [
    "# These are all the modules we'll be using later. Make sure you can import them\n",
    "# before proceeding further.\n",
    "from __future__ import print_function\n",
    "import numpy as np\n",
    "import tensorflow as tf\n",
    "from six.moves import cPickle as pickle"
   ]
  },
  {
   "cell_type": "markdown",
   "metadata": {
    "colab_type": "text",
    "id": "1HrCK6e17WzV"
   },
   "source": [
    "First reload the data we generated in _notmist.ipynb_."
   ]
  },
  {
   "cell_type": "code",
   "execution_count": 2,
   "metadata": {
    "cellView": "both",
    "colab": {
     "autoexec": {
      "startup": false,
      "wait_interval": 0
     },
     "output_extras": [
      {
       "item_id": 1
      }
     ]
    },
    "colab_type": "code",
    "collapsed": false,
    "executionInfo": {
     "elapsed": 11777,
     "status": "ok",
     "timestamp": 1449849322348,
     "user": {
      "color": "",
      "displayName": "",
      "isAnonymous": false,
      "isMe": true,
      "permissionId": "",
      "photoUrl": "",
      "sessionId": "0",
      "userId": ""
     },
     "user_tz": 480
    },
    "id": "y3-cj1bpmuxc",
    "outputId": "e03576f1-ebbe-4838-c388-f1777bcc9873"
   },
   "outputs": [
    {
     "name": "stdout",
     "output_type": "stream",
     "text": [
      "Training set (200000, 28, 28) (200000,)\n",
      "Validation set (10000, 28, 28) (10000,)\n",
      "Test set (10000, 28, 28) (10000,)\n"
     ]
    }
   ],
   "source": [
    "pickle_file = 'notMNIST.pickle'\n",
    "\n",
    "with open(pickle_file, 'rb') as f:\n",
    "  save = pickle.load(f)\n",
    "  train_dataset = save['train_dataset']\n",
    "  train_labels = save['train_labels']\n",
    "  valid_dataset = save['valid_dataset']\n",
    "  valid_labels = save['valid_labels']\n",
    "  test_dataset = save['test_dataset']\n",
    "  test_labels = save['test_labels']\n",
    "  del save  # hint to help gc free up memory\n",
    "  print('Training set', train_dataset.shape, train_labels.shape)\n",
    "  print('Validation set', valid_dataset.shape, valid_labels.shape)\n",
    "  print('Test set', test_dataset.shape, test_labels.shape)"
   ]
  },
  {
   "cell_type": "markdown",
   "metadata": {
    "colab_type": "text",
    "id": "L7aHrm6nGDMB"
   },
   "source": [
    "Reformat into a shape that's more adapted to the models we're going to train:\n",
    "- data as a flat matrix,\n",
    "- labels as float 1-hot encodings."
   ]
  },
  {
   "cell_type": "code",
   "execution_count": 3,
   "metadata": {
    "cellView": "both",
    "colab": {
     "autoexec": {
      "startup": false,
      "wait_interval": 0
     },
     "output_extras": [
      {
       "item_id": 1
      }
     ]
    },
    "colab_type": "code",
    "collapsed": false,
    "executionInfo": {
     "elapsed": 11728,
     "status": "ok",
     "timestamp": 1449849322356,
     "user": {
      "color": "",
      "displayName": "",
      "isAnonymous": false,
      "isMe": true,
      "permissionId": "",
      "photoUrl": "",
      "sessionId": "0",
      "userId": ""
     },
     "user_tz": 480
    },
    "id": "IRSyYiIIGIzS",
    "outputId": "3f8996ee-3574-4f44-c953-5c8a04636582"
   },
   "outputs": [
    {
     "name": "stdout",
     "output_type": "stream",
     "text": [
      "Training set (200000, 784) (200000, 10)\n",
      "Validation set (10000, 784) (10000, 10)\n",
      "Test set (10000, 784) (10000, 10)\n"
     ]
    }
   ],
   "source": [
    "image_size = 28\n",
    "num_labels = 10\n",
    "\n",
    "def reformat(dataset, labels):\n",
    "  dataset = dataset.reshape((-1, image_size * image_size)).astype(np.float32)\n",
    "  # Map 1 to [0.0, 1.0, 0.0 ...], 2 to [0.0, 0.0, 1.0 ...]\n",
    "  labels = (np.arange(num_labels) == labels[:,None]).astype(np.float32)\n",
    "  return dataset, labels\n",
    "\n",
    "original_train_labels = train_labels\n",
    "\n",
    "train_dataset, train_labels = reformat(train_dataset, train_labels)\n",
    "valid_dataset, valid_labels = reformat(valid_dataset, valid_labels)\n",
    "test_dataset, test_labels = reformat(test_dataset, test_labels)\n",
    "print('Training set', train_dataset.shape, train_labels.shape)\n",
    "print('Validation set', valid_dataset.shape, valid_labels.shape)\n",
    "print('Test set', test_dataset.shape, test_labels.shape)"
   ]
  },
  {
   "cell_type": "code",
   "execution_count": 4,
   "metadata": {
    "cellView": "both",
    "colab": {
     "autoexec": {
      "startup": false,
      "wait_interval": 0
     }
    },
    "colab_type": "code",
    "collapsed": true,
    "id": "RajPLaL_ZW6w"
   },
   "outputs": [],
   "source": [
    "def accuracy(predictions, labels):\n",
    "  return (100.0 * np.sum(np.argmax(predictions, 1) == np.argmax(labels, 1))\n",
    "          / predictions.shape[0])"
   ]
  },
  {
   "cell_type": "markdown",
   "metadata": {
    "colab_type": "text",
    "id": "sgLbUAQ1CW-1"
   },
   "source": [
    "---\n",
    "Problem 1\n",
    "---------\n",
    "\n",
    "Introduce and tune L2 regularization for both logistic and neural network models. Remember that L2 amounts to adding a penalty on the norm of the weights to the loss. In TensorFlow, you can compute the L2 loss for a tensor `t` using `nn.l2_loss(t)`. The right amount of regularization should improve your validation / test accuracy.\n",
    "\n",
    "---"
   ]
  },
  {
   "cell_type": "markdown",
   "metadata": {},
   "source": [
    "http://rishy.github.io/ml/2015/04/28/l1-vs-l2-loss/"
   ]
  },
  {
   "cell_type": "code",
   "execution_count": 5,
   "metadata": {
    "collapsed": false
   },
   "outputs": [
    {
     "name": "stdout",
     "output_type": "stream",
     "text": [
      "Accuracy:  86.27\n"
     ]
    }
   ],
   "source": [
    "# Logistic regression.\n",
    "\n",
    "from sklearn.linear_model import LogisticRegression\n",
    "\n",
    "regressor = LogisticRegression(penalty='l2')\n",
    "regressor.fit(train_dataset[:10000,:], original_train_labels[:10000])\n",
    "prediction = regressor.predict(test_dataset)\n",
    "print(\"Accuracy: \", accuracy((np.arange(num_labels) == prediction[:,None]).astype(np.float32), test_labels))"
   ]
  },
  {
   "cell_type": "code",
   "execution_count": 6,
   "metadata": {
    "collapsed": true
   },
   "outputs": [],
   "source": [
    "# Neural network.\n",
    "\n",
    "train_subset = 10000\n",
    "beta = 0.01\n",
    "\n",
    "graph = tf.Graph()\n",
    "with graph.as_default():\n",
    "\n",
    "    # Input data.\n",
    "    tf_train_dataset = tf.constant(train_dataset[:train_subset, :])\n",
    "    tf_train_labels = tf.constant(train_labels[:train_subset])\n",
    "    tf_valid_dataset = tf.constant(valid_dataset)\n",
    "    tf_test_dataset = tf.constant(test_dataset)\n",
    "  \n",
    "    # Variables.    \n",
    "    weights = tf.Variable(tf.truncated_normal([image_size * image_size, num_labels]))\n",
    "    biases = tf.Variable(tf.zeros([num_labels]))\n",
    "  \n",
    "    # Training computation.\n",
    "    logits = tf.matmul(tf_train_dataset, weights) + biases \n",
    "    loss = tf.reduce_mean(tf.nn.softmax_cross_entropy_with_logits(logits, tf_train_labels) )\n",
    "\n",
    "    regularizer = tf.nn.l2_loss(weights)\n",
    "    loss = tf.reduce_mean(loss + beta * regularizer)\n",
    "    \n",
    "    # Optimizer.\n",
    "    optimizer = tf.train.GradientDescentOptimizer(0.5).minimize(loss)\n",
    "  \n",
    "    # Predictions for the training, validation, and test data.\n",
    "    train_prediction = tf.nn.softmax(logits)\n",
    "    valid_prediction = tf.nn.softmax( tf.matmul(tf_valid_dataset, weights) + biases )\n",
    "    test_prediction = tf.nn.softmax(tf.matmul(tf_test_dataset, weights) + biases)"
   ]
  },
  {
   "cell_type": "code",
   "execution_count": 7,
   "metadata": {
    "collapsed": true
   },
   "outputs": [],
   "source": [
    "def run_gd_training(num_steps):\n",
    "    with tf.Session(graph=graph) as session:\n",
    "        # This is a one-time operation which ensures the parameters get initialized as\n",
    "        # we described in the graph: random weights for the matrix, zeros for the\n",
    "        # biases. \n",
    "        tf.initialize_all_variables().run()\n",
    "        print('Initialized')\n",
    "        for step in range(num_steps):\n",
    "        # Run the computations. We tell .run() that we want to run the optimizer,\n",
    "        # and get the loss value and the training predictions returned as numpy\n",
    "        # arrays.\n",
    "            _, l, predictions = session.run([optimizer, loss, train_prediction])\n",
    "            if (step % 100 == 0):\n",
    "                print('Loss at step {}: {}'.format(step, l))\n",
    "                print('Training accuracy: {:.1f}'.format(accuracy(predictions, \n",
    "                                                             train_labels[:train_subset, :])))\n",
    "                # Calling .eval() on valid_prediction is basically like calling run(), but\n",
    "                # just to get that one numpy array. Note that it recomputes all its graph\n",
    "                # dependencies.\n",
    "\n",
    "                # You don't have to do .eval above because we already ran the session for the\n",
    "                # train_prediction\n",
    "                print('Validation accuracy: {:.1f}'.format(accuracy(valid_prediction.eval(), \n",
    "                                                               valid_labels)))\n",
    "        print('Test accuracy: {:.1f}'.format(accuracy(test_prediction.eval(), test_labels))) "
   ]
  },
  {
   "cell_type": "code",
   "execution_count": 8,
   "metadata": {
    "collapsed": false
   },
   "outputs": [
    {
     "name": "stdout",
     "output_type": "stream",
     "text": [
      "Initialized\n",
      "Loss at step 0: 46.4647941589\n",
      "Training accuracy: 7.3\n",
      "Validation accuracy: 11.2\n",
      "Loss at step 100: 11.7526607513\n",
      "Training accuracy: 74.9\n",
      "Validation accuracy: 73.8\n",
      "Loss at step 200: 4.45667219162\n",
      "Training accuracy: 79.0\n",
      "Validation accuracy: 77.6\n",
      "Loss at step 300: 1.96321082115\n",
      "Training accuracy: 82.5\n",
      "Validation accuracy: 80.5\n",
      "Loss at step 400: 1.11597776413\n",
      "Training accuracy: 84.1\n",
      "Validation accuracy: 82.1\n",
      "Loss at step 500: 0.825283825397\n",
      "Training accuracy: 84.6\n",
      "Validation accuracy: 82.8\n",
      "Loss at step 600: 0.72435939312\n",
      "Training accuracy: 84.8\n",
      "Validation accuracy: 83.0\n",
      "Loss at step 700: 0.688986182213\n",
      "Training accuracy: 85.0\n",
      "Validation accuracy: 83.0\n",
      "Loss at step 800: 0.676491558552\n",
      "Training accuracy: 84.9\n",
      "Validation accuracy: 82.9\n",
      "Test accuracy: 88.9\n",
      "CPU times: user 52.3 s, sys: 2.65 s, total: 54.9 s\n",
      "Wall time: 55.8 s\n"
     ]
    }
   ],
   "source": [
    "%%time\n",
    "run_gd_training(801)"
   ]
  },
  {
   "cell_type": "code",
   "execution_count": 9,
   "metadata": {
    "collapsed": false
   },
   "outputs": [],
   "source": [
    "# Neural network with a hidden layer.\n",
    "\n",
    "num_nodes = 1024\n",
    "batch_size = 128\n",
    "beta = 0.01\n",
    "\n",
    "graph = tf.Graph()\n",
    "with graph.as_default():\n",
    "    # Input data. For the training data, we use a placeholder that will be fed\n",
    "    # at run time with a training minibatch.\n",
    "    tf_train_dataset = tf.placeholder(tf.float32,\n",
    "                                      shape=(batch_size, image_size * image_size))\n",
    "    tf_train_labels = tf.placeholder(tf.float32, shape=(batch_size, num_labels))\n",
    "    tf_valid_dataset = tf.constant(valid_dataset)\n",
    "    tf_test_dataset = tf.constant(test_dataset)\n",
    "  \n",
    "    # Variables.\n",
    "    weights1 = tf.Variable(tf.truncated_normal([image_size * image_size, num_nodes]))\n",
    "    biases1 = tf.Variable(tf.zeros([num_nodes]))\n",
    "  \n",
    "    weights2 = tf.Variable(tf.truncated_normal([num_nodes, num_labels]))\n",
    "    biases2 = tf.Variable(tf.zeros([num_labels]))\n",
    "\n",
    "    hidden1 = tf.nn.relu(tf.matmul(tf_train_dataset, weights1) + biases1)\n",
    "  \n",
    "    # Training computation.\n",
    "    logits = tf.matmul(hidden1, weights2) + biases2\n",
    "    loss = tf.reduce_mean(tf.nn.softmax_cross_entropy_with_logits(logits, tf_train_labels))\n",
    "\n",
    "    l2 = tf.nn.l2_loss(weights1) + tf.nn.l2_loss(weights2)\n",
    "    loss += 1e-5 * l2 \n",
    "  \n",
    "    # Optimizer.\n",
    "    optimizer = tf.train.GradientDescentOptimizer(0.5).minimize(loss)\n",
    "  \n",
    "    # Predictions for the training, validation, and test data.\n",
    "    train_prediction = tf.nn.softmax(logits)\n",
    "    valid_prediction = tf.nn.softmax(\n",
    "        tf.matmul(tf.nn.relu(tf.matmul(tf_valid_dataset, weights1) + biases1), weights2) + biases2)\n",
    "    test_prediction = tf.nn.softmax(\n",
    "        tf.matmul(tf.nn.relu(tf.matmul(tf_test_dataset, weights1) + biases1), weights2) + biases2)"
   ]
  },
  {
   "cell_type": "code",
   "execution_count": 10,
   "metadata": {
    "collapsed": false
   },
   "outputs": [],
   "source": [
    "def run_sgd_training(train_dataset, train_labels, num_steps, offset=None):\n",
    "    with tf.Session(graph=graph) as session:\n",
    "        tf.initialize_all_variables().run()\n",
    "        print(\"Initialized\")\n",
    "        for step in xrange(num_steps):\n",
    "            # Pick an offset within the training data, which has been randomized.\n",
    "            # Note: we could use better randomization across epochs.\n",
    "            if offset is None:\n",
    "                offset = (step * batch_size) % (train_labels.shape[0] - batch_size)\n",
    "            # Generate a minibatch.\n",
    "            batch_data = train_dataset[offset:(offset + batch_size), :]\n",
    "            batch_labels = train_labels[offset:(offset + batch_size), :]\n",
    "            # Prepare a dictionary telling the session where to feed the minibatch.\n",
    "            # The key of the dictionary is the placeholder node of the graph to be fed,\n",
    "            # and the value is the numpy array to feed to it.\n",
    "            feed_dict = {tf_train_dataset : batch_data, tf_train_labels : batch_labels}\n",
    "            _, l, predictions = session.run([optimizer, loss, train_prediction], feed_dict=feed_dict)\n",
    "            if (step % 500 == 0):\n",
    "                print(\"Minibatch loss at step\", step, \":\", l)\n",
    "                print(\"Minibatch accuracy: %.1f%%\" % accuracy(predictions, batch_labels))\n",
    "                print(\"Validation accuracy: %.1f%%\" % accuracy(valid_prediction.eval(), valid_labels))\n",
    "        print(\"Test accuracy: %.1f%%\" % accuracy(test_prediction.eval(), test_labels))"
   ]
  },
  {
   "cell_type": "code",
   "execution_count": 11,
   "metadata": {
    "collapsed": false
   },
   "outputs": [
    {
     "name": "stdout",
     "output_type": "stream",
     "text": [
      "Initialized\n",
      "Minibatch loss at step 0 : 397.72\n",
      "Minibatch accuracy: 8.6%\n",
      "Validation accuracy: 23.4%\n",
      "Minibatch loss at step 500 : 3.12968\n",
      "Minibatch accuracy: 100.0%\n",
      "Validation accuracy: 64.5%\n",
      "Minibatch loss at step 1000 : 3.11409\n",
      "Minibatch accuracy: 100.0%\n",
      "Validation accuracy: 64.5%\n",
      "Minibatch loss at step 1500 : 3.09856\n",
      "Minibatch accuracy: 100.0%\n",
      "Validation accuracy: 64.5%\n",
      "Minibatch loss at step 2000 : 3.0831\n",
      "Minibatch accuracy: 100.0%\n",
      "Validation accuracy: 64.5%\n",
      "Minibatch loss at step 2500 : 3.06772\n",
      "Minibatch accuracy: 100.0%\n",
      "Validation accuracy: 64.5%\n",
      "Minibatch loss at step 3000 : 3.05243\n",
      "Minibatch accuracy: 100.0%\n",
      "Validation accuracy: 64.5%\n",
      "Test accuracy: 69.6%\n",
      "CPU times: user 2min 19s, sys: 4.98 s, total: 2min 24s\n",
      "Wall time: 2min 25s\n"
     ]
    }
   ],
   "source": [
    "%%time\n",
    "run_sgd_training(train_dataset, train_labels, 3001)"
   ]
  },
  {
   "cell_type": "code",
   "execution_count": 12,
   "metadata": {
    "collapsed": true
   },
   "outputs": [],
   "source": [
    "num_nodes= 1024\n",
    "batch_size = 128\n",
    "beta = 0.01\n",
    "\n",
    "graph = tf.Graph()\n",
    "with graph.as_default():\n",
    "\n",
    "    # Input data. For the training data, we use a placeholder that will be fed\n",
    "    # at run time with a training minibatch.\n",
    "    tf_train_dataset = tf.placeholder(tf.float32, shape=(batch_size, image_size * image_size))\n",
    "    tf_train_labels = tf.placeholder(tf.float32, shape=(batch_size, num_labels))\n",
    "    tf_valid_dataset = tf.constant(valid_dataset)\n",
    "    tf_test_dataset = tf.constant(test_dataset)\n",
    "\n",
    "    # Variables.\n",
    "    weights1 = tf.Variable(tf.truncated_normal([image_size * image_size, num_nodes]))\n",
    "    biases1 = tf.Variable(tf.zeros([num_nodes]))\n",
    "    weights2 = tf.Variable(tf.truncated_normal([num_nodes, num_labels]))\n",
    "    biases2 = tf.Variable(tf.zeros([num_labels]))\n",
    "\n",
    "    # Training computation.\n",
    "    logits1 = tf.matmul(tf_train_dataset, weights1) + biases1\n",
    "    relu_layer= tf.nn.relu(logits1)\n",
    "    logits2 = tf.matmul(relu_layer, weights2) + biases2\n",
    "\n",
    "    loss = tf.reduce_mean(tf.nn.softmax_cross_entropy_with_logits(logits2, tf_train_labels))\n",
    "    regularizers = tf.nn.l2_loss(weights1) + tf.nn.l2_loss(weights2)\n",
    "    loss = tf.reduce_mean(loss + beta * regularizers)\n",
    "\n",
    "    # Optimizer.\n",
    "    optimizer = tf.train.GradientDescentOptimizer(0.5).minimize(loss)\n",
    "\n",
    "    # Predictions for the training data.\n",
    "    train_prediction = tf.nn.softmax(logits2)\n",
    "    \n",
    "    # Predictions for the validation data.\n",
    "    logits1 = tf.matmul(tf_valid_dataset, weights1) + biases1\n",
    "    relu_layer= tf.nn.relu(logits1)\n",
    "    logits2 = tf.matmul(relu_layer, weights2) + biases2\n",
    "    \n",
    "    valid_prediction = tf.nn.softmax(logits2)\n",
    "    \n",
    "    # Predictions for the test data.\n",
    "    logits1 = tf.matmul(tf_test_dataset, weights1) + biases1\n",
    "    relu_layer= tf.nn.relu(logits1)\n",
    "    logits2 = tf.matmul(relu_layer, weights2) + biases2\n",
    "    \n",
    "    test_prediction =  tf.nn.softmax(logits2)"
   ]
  },
  {
   "cell_type": "code",
   "execution_count": 13,
   "metadata": {
    "collapsed": false
   },
   "outputs": [
    {
     "name": "stdout",
     "output_type": "stream",
     "text": [
      "Initialized\n",
      "Minibatch loss at step 0 : 3512.49\n",
      "Minibatch accuracy: 9.4%\n",
      "Validation accuracy: 32.3%\n",
      "Minibatch loss at step 500 : 20.968\n",
      "Minibatch accuracy: 100.0%\n",
      "Validation accuracy: 70.2%\n",
      "Minibatch loss at step 1000 : 0.366071\n",
      "Minibatch accuracy: 100.0%\n",
      "Validation accuracy: 73.9%\n",
      "Minibatch loss at step 1500 : 0.209852\n",
      "Minibatch accuracy: 100.0%\n",
      "Validation accuracy: 74.3%\n",
      "Minibatch loss at step 2000 : 0.200672\n",
      "Minibatch accuracy: 100.0%\n",
      "Validation accuracy: 74.3%\n",
      "Minibatch loss at step 2500 : 0.196143\n",
      "Minibatch accuracy: 100.0%\n",
      "Validation accuracy: 74.3%\n",
      "Minibatch loss at step 3000 : 0.193224\n",
      "Minibatch accuracy: 100.0%\n",
      "Validation accuracy: 74.4%\n",
      "Test accuracy: 79.7%\n",
      "CPU times: user 1min 53s, sys: 5.99 s, total: 1min 59s\n",
      "Wall time: 2min\n"
     ]
    }
   ],
   "source": [
    "%%time\n",
    "run_sgd_training(train_dataset, train_labels, 3001)"
   ]
  },
  {
   "cell_type": "markdown",
   "metadata": {
    "colab_type": "text",
    "id": "na8xX2yHZzNF"
   },
   "source": [
    "---\n",
    "Problem 2\n",
    "---------\n",
    "Let's demonstrate an extreme case of overfitting. Restrict your training data to just a few batches. What happens?\n",
    "\n",
    "---"
   ]
  },
  {
   "cell_type": "code",
   "execution_count": 14,
   "metadata": {
    "collapsed": false,
    "scrolled": true
   },
   "outputs": [
    {
     "name": "stdout",
     "output_type": "stream",
     "text": [
      "Initialized\n",
      "Minibatch loss at step 0 : 3446.93\n",
      "Minibatch accuracy: 10.2%\n",
      "Validation accuracy: 30.5%\n",
      "Minibatch loss at step 500 : 20.9251\n",
      "Minibatch accuracy: 100.0%\n",
      "Validation accuracy: 70.9%\n",
      "Minibatch loss at step 1000 : 0.361159\n",
      "Minibatch accuracy: 100.0%\n",
      "Validation accuracy: 73.9%\n",
      "Minibatch loss at step 1500 : 0.205413\n",
      "Minibatch accuracy: 100.0%\n",
      "Validation accuracy: 74.2%\n",
      "Minibatch loss at step 2000 : 0.196687\n",
      "Minibatch accuracy: 100.0%\n",
      "Validation accuracy: 74.3%\n",
      "Minibatch loss at step 2500 : 0.192608\n",
      "Minibatch accuracy: 100.0%\n",
      "Validation accuracy: 74.3%\n",
      "Minibatch loss at step 3000 : 0.190027\n",
      "Minibatch accuracy: 100.0%\n",
      "Validation accuracy: 74.2%\n",
      "Test accuracy: 79.9%\n"
     ]
    }
   ],
   "source": [
    "run_sgd_training(train_dataset, train_labels, 3001, np.random.choice(np.arange(10)))"
   ]
  },
  {
   "cell_type": "code",
   "execution_count": 15,
   "metadata": {
    "collapsed": false
   },
   "outputs": [
    {
     "name": "stdout",
     "output_type": "stream",
     "text": [
      "Initialized\n",
      "Minibatch loss at step 0 : 3544.44\n",
      "Minibatch accuracy: 7.0%\n",
      "Validation accuracy: 29.7%\n",
      "Minibatch loss at step 500 : 20.9981\n",
      "Minibatch accuracy: 100.0%\n",
      "Validation accuracy: 70.3%\n",
      "Minibatch loss at step 1000 : 0.367163\n",
      "Minibatch accuracy: 100.0%\n",
      "Validation accuracy: 73.8%\n",
      "Minibatch loss at step 1500 : 0.209947\n",
      "Minibatch accuracy: 100.0%\n",
      "Validation accuracy: 74.1%\n",
      "Minibatch loss at step 2000 : 0.200584\n",
      "Minibatch accuracy: 100.0%\n",
      "Validation accuracy: 74.4%\n",
      "Minibatch loss at step 2500 : 0.195895\n",
      "Minibatch accuracy: 100.0%\n",
      "Validation accuracy: 74.3%\n",
      "Minibatch loss at step 3000 : 0.192872\n",
      "Minibatch accuracy: 100.0%\n",
      "Validation accuracy: 74.2%\n",
      "Test accuracy: 79.7%\n"
     ]
    }
   ],
   "source": [
    "run_sgd_training(train_dataset[:500, :], train_labels[:500], 3001)"
   ]
  },
  {
   "cell_type": "code",
   "execution_count": 16,
   "metadata": {
    "collapsed": false
   },
   "outputs": [
    {
     "name": "stdout",
     "output_type": "stream",
     "text": [
      "Initialized\n",
      "Minibatch loss at step 0 : 3485.13\n",
      "Minibatch accuracy: 12.5%\n",
      "Validation accuracy: 24.4%\n",
      "Minibatch loss at step 500 : 21.0295\n",
      "Minibatch accuracy: 100.0%\n",
      "Validation accuracy: 72.6%\n",
      "Minibatch loss at step 1000 : 0.368165\n",
      "Minibatch accuracy: 100.0%\n",
      "Validation accuracy: 73.5%\n",
      "Minibatch loss at step 1500 : 0.210133\n",
      "Minibatch accuracy: 100.0%\n",
      "Validation accuracy: 73.8%\n",
      "Minibatch loss at step 2000 : 0.20032\n",
      "Minibatch accuracy: 100.0%\n",
      "Validation accuracy: 74.1%\n",
      "Minibatch loss at step 2500 : 0.195433\n",
      "Minibatch accuracy: 100.0%\n",
      "Validation accuracy: 74.1%\n",
      "Minibatch loss at step 3000 : 0.192339\n",
      "Minibatch accuracy: 100.0%\n",
      "Validation accuracy: 74.0%\n",
      "Test accuracy: 79.4%\n"
     ]
    }
   ],
   "source": [
    "run_sgd_training(train_dataset[:129, :], train_labels[:129], 3001)"
   ]
  },
  {
   "cell_type": "markdown",
   "metadata": {},
   "source": [
    "Training accuracy is higher than testing accuracy => overfitting."
   ]
  },
  {
   "cell_type": "markdown",
   "metadata": {
    "colab_type": "text",
    "id": "ww3SCBUdlkRc"
   },
   "source": [
    "---\n",
    "Problem 3\n",
    "---------\n",
    "Introduce Dropout on the hidden layer of the neural network. Remember: Dropout should only be introduced during training, not evaluation, otherwise your evaluation results would be stochastic as well. TensorFlow provides `nn.dropout()` for that, but you have to make sure it's only inserted during training.\n",
    "\n",
    "What happens to our extreme overfitting case?\n",
    "\n",
    "---"
   ]
  },
  {
   "cell_type": "code",
   "execution_count": 17,
   "metadata": {
    "collapsed": true
   },
   "outputs": [],
   "source": [
    "num_nodes= 1024\n",
    "batch_size = 128\n",
    "beta = 0.01\n",
    "\n",
    "graph = tf.Graph()\n",
    "with graph.as_default():\n",
    "\n",
    "    # Input data. For the training data, we use a placeholder that will be fed\n",
    "    # at run time with a training minibatch.\n",
    "    tf_train_dataset = tf.placeholder(tf.float32, shape=(batch_size, image_size * image_size))\n",
    "    tf_train_labels = tf.placeholder(tf.float32, shape=(batch_size, num_labels))\n",
    "    tf_valid_dataset = tf.constant(valid_dataset)\n",
    "    tf_test_dataset = tf.constant(test_dataset)\n",
    "\n",
    "    # Variables.\n",
    "    weights1 = tf.Variable(tf.truncated_normal([image_size * image_size, num_nodes]))\n",
    "    biases1 = tf.Variable(tf.zeros([num_nodes]))\n",
    "    weights2 = tf.Variable(tf.truncated_normal([num_nodes, num_labels]))\n",
    "    biases2 = tf.Variable(tf.zeros([num_labels]))\n",
    "    \n",
    "    # Training computation.\n",
    "    logits1 = tf.matmul(tf_train_dataset, weights1) + biases1\n",
    "    relu_layer= tf.nn.relu(logits1)\n",
    "\n",
    "    keep_prob = tf.placeholder(\"float\")\n",
    "    relu_layer_dropout = tf.nn.dropout(relu_layer, keep_prob)\n",
    "    \n",
    "    logits2 = tf.matmul(relu_layer_dropout, weights2) + biases2\n",
    "\n",
    "    loss = tf.reduce_mean(tf.nn.softmax_cross_entropy_with_logits(logits2, tf_train_labels))\n",
    "    regularizers = tf.nn.l2_loss(weights1) + tf.nn.l2_loss(weights2)\n",
    "    loss = tf.reduce_mean(loss + beta * regularizers)\n",
    "\n",
    "    # Optimizer.\n",
    "    optimizer = tf.train.GradientDescentOptimizer(0.5).minimize(loss)\n",
    "\n",
    "    # Predictions for the training data.\n",
    "    train_prediction = tf.nn.softmax(logits2)\n",
    "    \n",
    "    # Predictions for the validation data.\n",
    "    logits1 = tf.matmul(tf_valid_dataset, weights1) + biases1\n",
    "    relu_layer= tf.nn.relu(logits1)\n",
    "    logits2 = tf.matmul(relu_layer, weights2) + biases2\n",
    "    \n",
    "    valid_prediction = tf.nn.softmax(logits2)\n",
    "    \n",
    "    # Predictions for the test data.\n",
    "    logits1 = tf.matmul(tf_test_dataset, weights1) + biases1\n",
    "    relu_layer= tf.nn.relu(logits1)\n",
    "    logits2 = tf.matmul(relu_layer, weights2) + biases2\n",
    "    \n",
    "    test_prediction =  tf.nn.softmax(logits2)"
   ]
  },
  {
   "cell_type": "code",
   "execution_count": 18,
   "metadata": {
    "collapsed": true
   },
   "outputs": [],
   "source": [
    "def run_sgd_training_tuned(train_dataset, train_labels, num_steps, offset=None, confidence=0.5):\n",
    "    with tf.Session(graph=graph) as session:\n",
    "        tf.initialize_all_variables().run()\n",
    "        print(\"Initialized\")\n",
    "        for step in range(num_steps):\n",
    "            # Pick an offset within the training data, which has been randomized.\n",
    "            # Note: we could use better randomization across epochs.\n",
    "            if offset is None:\n",
    "                offset = (step * batch_size) % (train_labels.shape[0] - batch_size)\n",
    "            # Generate a minibatch.\n",
    "            batch_data = train_dataset[offset:(offset + batch_size), :]\n",
    "            batch_labels = train_labels[offset:(offset + batch_size), :]\n",
    "            # Prepare a dictionary telling the session where to feed the minibatch.\n",
    "            # The key of the dictionary is the placeholder node of the graph to be fed,\n",
    "            # and the value is the numpy array to feed to it.\n",
    "            feed_dict = {tf_train_dataset : batch_data, tf_train_labels : batch_labels, keep_prob : confidence}\n",
    "            _, l, predictions = session.run([optimizer, loss, train_prediction], feed_dict=feed_dict)\n",
    "            if (step % 500 == 0):\n",
    "                print(\"Minibatch loss at step\", step, \":\", l)\n",
    "                print(\"Minibatch accuracy: %.1f%%\" % accuracy(predictions, batch_labels))\n",
    "                print(\"Validation accuracy: %.1f%%\" % accuracy(valid_prediction.eval(), valid_labels))\n",
    "        print(\"Test accuracy: %.1f%%\" % accuracy(test_prediction.eval(), test_labels))"
   ]
  },
  {
   "cell_type": "code",
   "execution_count": 19,
   "metadata": {
    "collapsed": false
   },
   "outputs": [
    {
     "name": "stdout",
     "output_type": "stream",
     "text": [
      "Initialized\n",
      "Minibatch loss at step 0 : 3622.21\n",
      "Minibatch accuracy: 7.0%\n",
      "Validation accuracy: 28.6%\n",
      "Minibatch loss at step 500 : 21.042\n",
      "Minibatch accuracy: 100.0%\n",
      "Validation accuracy: 72.1%\n",
      "Minibatch loss at step 1000 : 0.392735\n",
      "Minibatch accuracy: 100.0%\n",
      "Validation accuracy: 74.2%\n",
      "Minibatch loss at step 1500 : 0.228068\n",
      "Minibatch accuracy: 100.0%\n",
      "Validation accuracy: 74.3%\n",
      "Minibatch loss at step 2000 : 0.212551\n",
      "Minibatch accuracy: 100.0%\n",
      "Validation accuracy: 74.6%\n",
      "Minibatch loss at step 2500 : 0.217324\n",
      "Minibatch accuracy: 100.0%\n",
      "Validation accuracy: 74.5%\n",
      "Minibatch loss at step 3000 : 0.206963\n",
      "Minibatch accuracy: 100.0%\n",
      "Validation accuracy: 74.8%\n",
      "Test accuracy: 80.5%\n"
     ]
    }
   ],
   "source": [
    "run_sgd_training_tuned(train_dataset, train_labels, 3001)"
   ]
  },
  {
   "cell_type": "markdown",
   "metadata": {},
   "source": [
    "Extreme overfitting case:"
   ]
  },
  {
   "cell_type": "code",
   "execution_count": 20,
   "metadata": {
    "collapsed": false
   },
   "outputs": [
    {
     "name": "stdout",
     "output_type": "stream",
     "text": [
      "Initialized\n",
      "Minibatch loss at step 0 : 3621.72\n",
      "Minibatch accuracy: 7.8%\n",
      "Validation accuracy: 25.4%\n",
      "Minibatch loss at step 500 : 21.0065\n",
      "Minibatch accuracy: 100.0%\n",
      "Validation accuracy: 72.0%\n",
      "Minibatch loss at step 1000 : 0.381881\n",
      "Minibatch accuracy: 100.0%\n",
      "Validation accuracy: 74.2%\n",
      "Minibatch loss at step 1500 : 0.224813\n",
      "Minibatch accuracy: 100.0%\n",
      "Validation accuracy: 74.4%\n",
      "Minibatch loss at step 2000 : 0.214306\n",
      "Minibatch accuracy: 100.0%\n",
      "Validation accuracy: 74.4%\n",
      "Minibatch loss at step 2500 : 0.209964\n",
      "Minibatch accuracy: 100.0%\n",
      "Validation accuracy: 74.7%\n",
      "Minibatch loss at step 3000 : 0.210832\n",
      "Minibatch accuracy: 100.0%\n",
      "Validation accuracy: 74.6%\n",
      "Test accuracy: 80.1%\n"
     ]
    }
   ],
   "source": [
    "run_sgd_training_tuned(train_dataset[:500, :], train_labels[:500], 3001)"
   ]
  },
  {
   "cell_type": "markdown",
   "metadata": {
    "colab_type": "text",
    "id": "-b1hTz3VWZjw"
   },
   "source": [
    "---\n",
    "Problem 4\n",
    "---------\n",
    "\n",
    "Try to get the best performance you can using a multi-layer model! The best reported test accuracy using a deep network is [97.1%](http://yaroslavvb.blogspot.com/2011/09/notmnist-dataset.html?showComment=1391023266211#c8758720086795711595).\n",
    "\n",
    "One avenue you can explore is to add multiple layers.\n",
    "\n",
    "Another one is to use learning rate decay:\n",
    "\n",
    "    global_step = tf.Variable(0)  # count the number of steps taken.\n",
    "    learning_rate = tf.train.exponential_decay(0.5, global_step, ...)\n",
    "    optimizer = tf.train.GradientDescentOptimizer(learning_rate).minimize(loss, global_step=global_step)\n",
    " \n",
    " ---\n"
   ]
  },
  {
   "cell_type": "code",
   "execution_count": 21,
   "metadata": {
    "collapsed": true
   },
   "outputs": [],
   "source": [
    "num_nodes_layer1 = 1024\n",
    "num_nodes_layer2 = int(num_nodes_layer1 * 0.5)\n",
    "num_nodes_layer3 = int(num_nodes_layer1 * 0.5**2)\n",
    "\n",
    "batch_size = 128\n",
    "\n",
    "graph = tf.Graph()\n",
    "with graph.as_default():\n",
    "    # Input data. For the training data, we use a placeholder that will be fed\n",
    "    # at run time with a training minibatch.\n",
    "    tf_train_dataset = tf.placeholder(tf.float32, shape=(batch_size, image_size * image_size))\n",
    "    tf_train_labels = tf.placeholder(tf.float32, shape=(batch_size, num_labels))\n",
    "    tf_valid_dataset = tf.constant(valid_dataset)\n",
    "    tf_test_dataset = tf.constant(test_dataset)\n",
    "  \n",
    "    # Variables.\n",
    "    weights1 = tf.Variable(tf.truncated_normal([image_size * image_size, num_nodes_layer1]))\n",
    "    biases1 = tf.Variable(tf.zeros([num_nodes_layer1]))\n",
    "  \n",
    "    weights2 = tf.Variable(tf.truncated_normal([num_nodes_layer1, num_nodes_layer2]))\n",
    "    biases2 = tf.Variable(tf.zeros([num_nodes_layer2]))\n",
    "\n",
    "    weights3 = tf.Variable(tf.truncated_normal([num_nodes_layer2, num_nodes_layer3]))\n",
    "    biases3 = tf.Variable(tf.zeros([num_nodes_layer3]))\n",
    "\n",
    "    weights4 = tf.Variable(tf.truncated_normal([num_nodes_layer3, num_labels]))\n",
    "    biases4 = tf.Variable(tf.zeros([num_labels]))\n",
    "\n",
    "    hidden1 = tf.nn.relu(tf.matmul(tf_train_dataset, weights1) + biases1)\n",
    "    hidden2 = tf.nn.relu(tf.matmul(hidden1, weights2) + biases2)\n",
    "    hidden3 = tf.nn.relu(tf.matmul(hidden2, weights3) + biases3)\n",
    "  \n",
    "    # Training computation.\n",
    "    logits = tf.matmul(hidden3, weights4) + biases4\n",
    "    loss = tf.reduce_mean(\n",
    "        tf.nn.softmax_cross_entropy_with_logits(logits, tf_train_labels))\n",
    "\n",
    "    l2 = tf.nn.l2_loss(weights1) + tf.nn.l2_loss(weights2) + tf.nn.l2_loss(weights3) + tf.nn.l2_loss(weights4)\n",
    "    loss += 1e-5 * l2 \n",
    "  \n",
    "    # Optimizer.\n",
    "    global_step = tf.Variable(0)\n",
    "    starter_learning_rate = 0.00001\n",
    "    learning_rate = tf.train.exponential_decay(starter_learning_rate, global_step, 500, 0.96, staircase=True)\n",
    "    optimizer = tf.train.GradientDescentOptimizer(learning_rate).minimize(loss, global_step=global_step)\n",
    "  \n",
    "    # Predictions for the training, validation, and test data.\n",
    "    train_prediction = tf.nn.softmax(logits)\n",
    "    valid_prediction = tf.nn.softmax(\n",
    "        tf.matmul(tf.nn.relu(tf.matmul(tf.nn.relu(tf.matmul(tf.nn.relu(tf.matmul(tf_valid_dataset, weights1) + biases1), weights2) + biases2), weights3) + biases3), weights4) + biases4)\n",
    "    test_prediction = tf.nn.softmax(\n",
    "        tf.matmul(tf.nn.relu(tf.matmul(tf.nn.relu(tf.matmul(tf.nn.relu(tf.matmul(tf_test_dataset, weights1) + biases1), weights2) + biases2), weights3) + biases3), weights4) + biases4)\n"
   ]
  },
  {
   "cell_type": "code",
   "execution_count": 22,
   "metadata": {
    "collapsed": false
   },
   "outputs": [],
   "source": [
    "def run_sgd_training_with_lr(train_dataset, train_labels, num_steps):\n",
    "    with tf.Session(graph=graph) as session:\n",
    "        tf.initialize_all_variables().run()\n",
    "        print(\"Initialized\")\n",
    "        for step in xrange(num_steps):\n",
    "            # Pick an offset within the training data, which has been randomized to a few batches.\n",
    "            # Note: we could use better randomization across epochs.\n",
    "            offset = (step * batch_size) % (train_labels.shape[0] - batch_size)\n",
    "            # Generate a minibatch.\n",
    "            batch_data = train_dataset[offset:(offset + batch_size), :]\n",
    "            batch_labels = train_labels[offset:(offset + batch_size), :]\n",
    "            # Prepare a dictionary telling the session where to feed the minibatch.\n",
    "            # The key of the dictionary is the placeholder node of the graph to be fed,\n",
    "            # and the value is the numpy array to feed to it.\n",
    "            feed_dict = {tf_train_dataset : batch_data, tf_train_labels : batch_labels}\n",
    "            _, l, predictions = session.run([optimizer, loss, train_prediction], feed_dict=feed_dict)\n",
    "            if (step % 500 == 0):\n",
    "                print(\"Learning rate: \", learning_rate.eval())\n",
    "                print(\"Global step: \", global_step.eval())\n",
    "                print(\"Minibatch loss at step\", step, \":\", l)\n",
    "                print(\"Minibatch accuracy: %.1f%%\" % accuracy(predictions, batch_labels))\n",
    "                print(\"Validation accuracy: %.1f%%\" % accuracy(valid_prediction.eval(), valid_labels))\n",
    "        print(\"Test accuracy: %.1f%%\" % accuracy(test_prediction.eval(), test_labels))"
   ]
  },
  {
   "cell_type": "code",
   "execution_count": 23,
   "metadata": {
    "collapsed": false
   },
   "outputs": [
    {
     "name": "stdout",
     "output_type": "stream",
     "text": [
      "Initialized\n",
      "Learning rate:  1e-05\n",
      "Global step:  1\n",
      "Minibatch loss at step 0 : 75531.8\n",
      "Minibatch accuracy: 3.9%\n",
      "Validation accuracy: 8.0%\n",
      "Learning rate:  9.6e-06\n",
      "Global step:  501\n",
      "Minibatch loss at step 500 : 5217.08\n",
      "Minibatch accuracy: 64.1%\n",
      "Validation accuracy: 65.2%\n",
      "Learning rate:  9.216e-06\n",
      "Global step:  1001\n",
      "Minibatch loss at step 1000 : 4643.64\n",
      "Minibatch accuracy: 68.0%\n",
      "Validation accuracy: 70.6%\n",
      "Learning rate:  8.84736e-06\n",
      "Global step:  1501\n",
      "Minibatch loss at step 1500 : 3903.38\n",
      "Minibatch accuracy: 75.8%\n",
      "Validation accuracy: 72.3%\n",
      "Learning rate:  8.49346e-06\n",
      "Global step:  2001\n",
      "Minibatch loss at step 2000 : 3051.69\n",
      "Minibatch accuracy: 74.2%\n",
      "Validation accuracy: 73.6%\n",
      "Learning rate:  8.15373e-06\n",
      "Global step:  2501\n",
      "Minibatch loss at step 2500 : 3706.82\n",
      "Minibatch accuracy: 71.9%\n",
      "Validation accuracy: 74.2%\n",
      "Learning rate:  7.82758e-06\n",
      "Global step:  3001\n",
      "Minibatch loss at step 3000 : 2099.92\n",
      "Minibatch accuracy: 78.9%\n",
      "Validation accuracy: 74.9%\n",
      "Test accuracy: 81.3%\n"
     ]
    }
   ],
   "source": [
    "run_sgd_training_with_lr(train_dataset, train_labels, 3001)"
   ]
  },
  {
   "cell_type": "code",
   "execution_count": 24,
   "metadata": {
    "collapsed": false
   },
   "outputs": [],
   "source": [
    "import math\n",
    "\n",
    "batch_size = 128\n",
    "beta = 0.001\n",
    "\n",
    "num_nodes_layer1 = 1024\n",
    "num_nodes_layer2 = int(num_nodes_layer1 * 0.5)\n",
    "num_nodes_layer3 = int(num_nodes_layer1 * 0.5**2)\n",
    "num_nodes_layer4 = int(num_nodes_layer1 * 0.5**3)\n",
    "num_nodes_layer5 = int(num_nodes_layer1 * 0.5**4)\n",
    "\n",
    "graph = tf.Graph()\n",
    "with graph.as_default():\n",
    "    # Input data. For the training data, we use a placeholder that will be fed\n",
    "    # at run time with a training minibatch.    \n",
    "    tf_train_dataset = tf.placeholder(tf.float32, shape=(batch_size, image_size * image_size))\n",
    "    tf_train_labels = tf.placeholder(tf.float32, shape=(batch_size, num_labels))\n",
    "    tf_valid_dataset = tf.constant(valid_dataset)\n",
    "    tf_test_dataset = tf.constant(test_dataset)\n",
    "\n",
    "    # Variables.\n",
    "    weights1 = tf.Variable(tf.truncated_normal([image_size * image_size, num_nodes_layer1], stddev=math.sqrt(2.0/(image_size*image_size))))\n",
    "    biases1 = tf.Variable(tf.zeros([num_nodes_layer1]))\n",
    "\n",
    "    weights2 = tf.Variable(tf.truncated_normal([num_nodes_layer1, num_nodes_layer2], stddev=math.sqrt(2.0/num_nodes_layer1)))\n",
    "    biases2 = tf.Variable(tf.zeros([num_nodes_layer2]))\n",
    "    \n",
    "    weights3 = tf.Variable(tf.truncated_normal([num_nodes_layer2, num_nodes_layer3], stddev=math.sqrt(2.0/num_nodes_layer2)))\n",
    "    biases3 = tf.Variable(tf.zeros([num_nodes_layer3]))\n",
    "    \n",
    "    weights4 = tf.Variable(tf.truncated_normal([num_nodes_layer3, num_nodes_layer4], stddev=math.sqrt(2.0/num_nodes_layer3)))\n",
    "    biases4 = tf.Variable(tf.zeros([num_nodes_layer4]))\n",
    "    \n",
    "    weights5 = tf.Variable(tf.truncated_normal([num_nodes_layer4, num_nodes_layer5], stddev=math.sqrt(2.0/num_nodes_layer4)))\n",
    "    biases5 = tf.Variable(tf.zeros([num_nodes_layer5]))\n",
    "    \n",
    "    weights6 = tf.Variable(tf.truncated_normal([num_nodes_layer5, num_labels], stddev=math.sqrt(2.0/num_nodes_layer5)))\n",
    "    biases6 = tf.Variable(tf.zeros([num_labels]))\n",
    "    \n",
    "    # Training computation.\n",
    "    logits1 = tf.matmul(tf_train_dataset, weights1) + biases1\n",
    "    hidden_layer1 = tf.nn.relu(logits1)\n",
    "    keep_prob = tf.placeholder(\"float\")\n",
    "    hidden_layer1_dropout = tf.nn.dropout(hidden_layer1, keep_prob)\n",
    "    \n",
    "    logits2 = tf.matmul(hidden_layer1_dropout, weights2) + biases2\n",
    "    hidden_layer2 = tf.nn.relu(logits2)\n",
    "    hidden_layer2_dropout = tf.nn.dropout(hidden_layer2, keep_prob)\n",
    "    \n",
    "    logits3 = tf.matmul(hidden_layer2_dropout, weights3) + biases3\n",
    "    hidden_layer3 = tf.nn.relu(logits3)\n",
    "    hidden_layer3_dropout = tf.nn.dropout(hidden_layer3, keep_prob)\n",
    "    \n",
    "    logits4 = tf.matmul(hidden_layer3_dropout, weights4) + biases4\n",
    "    hidden_layer4 = tf.nn.relu(logits4)\n",
    "    hidden_layer4_dropout = tf.nn.dropout(hidden_layer4, keep_prob)\n",
    "    \n",
    "    logits5 = tf.matmul(hidden_layer4_dropout, weights5) + biases5\n",
    "    hidden_layer5 = tf.nn.relu(logits5)\n",
    "    hidden_layer5_dropout = tf.nn.dropout(hidden_layer5, keep_prob)\n",
    "    \n",
    "    logits6 = tf.matmul(hidden_layer5_dropout, weights6) + biases6 \n",
    "    \n",
    "    loss = tf.reduce_mean(tf.nn.softmax_cross_entropy_with_logits(logits6, tf_train_labels))\n",
    "\n",
    "    regularizers = tf.nn.l2_loss(weights1) + tf.nn.l2_loss(weights2) + \\\n",
    "                   tf.nn.l2_loss(weights3) + tf.nn.l2_loss(weights4) + \\\n",
    "                   tf.nn.l2_loss(weights5) + tf.nn.l2_loss(weights6)\n",
    "    loss = tf.reduce_mean(loss + beta * regularizers)\n",
    "\n",
    "    # Optimizer.\n",
    "    global_step = tf.Variable(0)\n",
    "    start_learning_rate = 0.5\n",
    "    learning_rate = tf.train.exponential_decay(start_learning_rate, global_step, 100000, 0.96, staircase=True)\n",
    "    optimizer = tf.train.GradientDescentOptimizer(learning_rate).minimize(loss, global_step=global_step)\n",
    "    \n",
    "    # Predictions for the training data.\n",
    "    train_prediction = tf.nn.softmax(logits6)\n",
    "    \n",
    "    # Predictions for validation data.\n",
    "    valid_logits1 = tf.matmul(tf_valid_dataset, weights1) + biases1\n",
    "    valid_relu1 = tf.nn.relu(valid_logits1)\n",
    "    \n",
    "    valid_logits2 = tf.matmul(valid_relu1, weights2) + biases2\n",
    "    valid_relu2 = tf.nn.relu(valid_logits2)\n",
    "    \n",
    "    valid_logits3 = tf.matmul(valid_relu2, weights3) + biases3\n",
    "    valid_relu3 = tf.nn.relu(valid_logits3)\n",
    "    \n",
    "    valid_logits4 = tf.matmul(valid_relu3, weights4) + biases4\n",
    "    valid_relu4 = tf.nn.relu(valid_logits4)\n",
    "    \n",
    "    valid_logits5 = tf.matmul(valid_relu4, weights5) + biases5\n",
    "    valid_relu5 = tf.nn.relu(valid_logits5)\n",
    "    \n",
    "    valid_logits6 = tf.matmul(valid_relu5, weights6) + biases6\n",
    "    \n",
    "    valid_prediction = tf.nn.softmax(valid_logits6)\n",
    "    \n",
    "    # Predictions for test data.\n",
    "    test_logits1 = tf.matmul(tf_test_dataset, weights1) + biases1\n",
    "    test_relu1 = tf.nn.relu(test_logits1)\n",
    "    \n",
    "    test_logits2 = tf.matmul(test_relu1, weights2) + biases2\n",
    "    test_relu2 = tf.nn.relu(test_logits2)\n",
    "    \n",
    "    test_logits3 = tf.matmul(test_relu2, weights3) + biases3\n",
    "    test_relu3 = tf.nn.relu(test_logits3)\n",
    "    \n",
    "    test_logits4 = tf.matmul(test_relu3, weights4) + biases4\n",
    "    test_relu4 = tf.nn.relu(test_logits4)\n",
    "    \n",
    "    test_logits5 = tf.matmul(test_relu4, weights5) + biases5\n",
    "    test_relu5 = tf.nn.relu(test_logits5)\n",
    "    \n",
    "    test_logits6 = tf.matmul(test_relu5, weights6) + biases6\n",
    "    \n",
    "    test_prediction = tf.nn.softmax(test_logits6)"
   ]
  },
  {
   "cell_type": "code",
   "execution_count": 25,
   "metadata": {
    "collapsed": true
   },
   "outputs": [],
   "source": [
    "def run_sgd_training_with_lr_tuned(train_dataset, train_labels, num_steps, confidence=0.5):\n",
    "    with tf.Session(graph=graph) as session:\n",
    "        tf.initialize_all_variables().run()\n",
    "        print(\"Initialized\")\n",
    "        for step in xrange(num_steps):\n",
    "            # Pick an offset within the training data, which has been randomized to a few batches.\n",
    "            # Note: we could use better randomization across epochs.\n",
    "            offset = (step * batch_size) % (train_labels.shape[0] - batch_size)\n",
    "            # Generate a minibatch.\n",
    "            batch_data = train_dataset[offset:(offset + batch_size), :]\n",
    "            batch_labels = train_labels[offset:(offset + batch_size), :]\n",
    "            # Prepare a dictionary telling the session where to feed the minibatch.\n",
    "            # The key of the dictionary is the placeholder node of the graph to be fed,\n",
    "            # and the value is the numpy array to feed to it.\n",
    "            feed_dict = {tf_train_dataset : batch_data, tf_train_labels : batch_labels, keep_prob : confidence}\n",
    "            _, l, predictions = session.run([optimizer, loss, train_prediction], feed_dict=feed_dict)\n",
    "            if (step % 500 == 0):\n",
    "                print(\"Learning rate: \", learning_rate.eval())\n",
    "                print(\"Global step: \", global_step.eval())\n",
    "                print(\"Minibatch loss at step\", step, \":\", l)\n",
    "                print(\"Minibatch accuracy: %.1f%%\" % accuracy(predictions, batch_labels))\n",
    "                print(\"Validation accuracy: %.1f%%\" % accuracy(valid_prediction.eval(), valid_labels))\n",
    "        print(\"Test accuracy: %.1f%%\" % accuracy(test_prediction.eval(), test_labels))"
   ]
  },
  {
   "cell_type": "code",
   "execution_count": 26,
   "metadata": {
    "collapsed": false
   },
   "outputs": [
    {
     "name": "stdout",
     "output_type": "stream",
     "text": [
      "Initialized\n",
      "Learning rate:  0.5\n",
      "Global step:  1\n",
      "Minibatch loss at step 0 : 5.10509\n",
      "Minibatch accuracy: 7.8%\n",
      "Validation accuracy: 12.2%\n",
      "Learning rate:  0.5\n",
      "Global step:  501\n",
      "Minibatch loss at step 500 : 1.75584\n",
      "Minibatch accuracy: 82.8%\n",
      "Validation accuracy: 83.4%\n",
      "Learning rate:  0.5\n",
      "Global step:  1001\n",
      "Minibatch loss at step 1000 : 1.87518\n",
      "Minibatch accuracy: 73.4%\n",
      "Validation accuracy: 84.5%\n",
      "Learning rate:  0.5\n",
      "Global step:  1501\n",
      "Minibatch loss at step 1500 : 1.18907\n",
      "Minibatch accuracy: 85.9%\n",
      "Validation accuracy: 85.3%\n",
      "Learning rate:  0.5\n",
      "Global step:  2001\n",
      "Minibatch loss at step 2000 : 1.21976\n",
      "Minibatch accuracy: 78.9%\n",
      "Validation accuracy: 85.4%\n",
      "Learning rate:  0.5\n",
      "Global step:  2501\n",
      "Minibatch loss at step 2500 : 1.23374\n",
      "Minibatch accuracy: 75.8%\n",
      "Validation accuracy: 86.0%\n",
      "Learning rate:  0.5\n",
      "Global step:  3001\n",
      "Minibatch loss at step 3000 : 0.831508\n",
      "Minibatch accuracy: 87.5%\n",
      "Validation accuracy: 86.1%\n",
      "Learning rate:  0.5\n",
      "Global step:  3501\n",
      "Minibatch loss at step 3500 : 0.805972\n",
      "Minibatch accuracy: 85.2%\n",
      "Validation accuracy: 86.4%\n",
      "Learning rate:  0.5\n",
      "Global step:  4001\n",
      "Minibatch loss at step 4000 : 0.810892\n",
      "Minibatch accuracy: 83.6%\n",
      "Validation accuracy: 86.0%\n",
      "Learning rate:  0.5\n",
      "Global step:  4501\n",
      "Minibatch loss at step 4500 : 0.751338\n",
      "Minibatch accuracy: 85.9%\n",
      "Validation accuracy: 86.6%\n",
      "Learning rate:  0.5\n",
      "Global step:  5001\n",
      "Minibatch loss at step 5000 : 0.930853\n",
      "Minibatch accuracy: 78.9%\n",
      "Validation accuracy: 86.4%\n",
      "Learning rate:  0.5\n",
      "Global step:  5501\n",
      "Minibatch loss at step 5500 : 1.10397\n",
      "Minibatch accuracy: 78.9%\n",
      "Validation accuracy: 86.8%\n",
      "Learning rate:  0.5\n",
      "Global step:  6001\n",
      "Minibatch loss at step 6000 : 0.941514\n",
      "Minibatch accuracy: 78.9%\n",
      "Validation accuracy: 86.4%\n",
      "Learning rate:  0.5\n",
      "Global step:  6501\n",
      "Minibatch loss at step 6500 : 0.818514\n",
      "Minibatch accuracy: 82.8%\n",
      "Validation accuracy: 86.8%\n",
      "Learning rate:  0.5\n",
      "Global step:  7001\n",
      "Minibatch loss at step 7000 : 0.868979\n",
      "Minibatch accuracy: 82.8%\n",
      "Validation accuracy: 86.8%\n",
      "Learning rate:  0.5\n",
      "Global step:  7501\n",
      "Minibatch loss at step 7500 : 0.75467\n",
      "Minibatch accuracy: 85.9%\n",
      "Validation accuracy: 86.3%\n",
      "Learning rate:  0.5\n",
      "Global step:  8001\n",
      "Minibatch loss at step 8000 : 0.918346\n",
      "Minibatch accuracy: 81.2%\n",
      "Validation accuracy: 87.0%\n",
      "Learning rate:  0.5\n",
      "Global step:  8501\n",
      "Minibatch loss at step 8500 : 0.679552\n",
      "Minibatch accuracy: 85.9%\n",
      "Validation accuracy: 87.2%\n",
      "Learning rate:  0.5\n",
      "Global step:  9001\n",
      "Minibatch loss at step 9000 : 0.90341\n",
      "Minibatch accuracy: 82.8%\n",
      "Validation accuracy: 86.3%\n",
      "Learning rate:  0.5\n",
      "Global step:  9501\n",
      "Minibatch loss at step 9500 : 0.685704\n",
      "Minibatch accuracy: 87.5%\n",
      "Validation accuracy: 87.2%\n",
      "Test accuracy: 91.7%\n"
     ]
    }
   ],
   "source": [
    "run_sgd_training_with_lr_tuned(train_dataset, train_labels, 10000)"
   ]
  },
  {
   "cell_type": "code",
   "execution_count": null,
   "metadata": {
    "collapsed": true
   },
   "outputs": [],
   "source": []
  }
 ],
 "metadata": {
  "colab": {
   "default_view": {},
   "name": "3_regularization.ipynb",
   "provenance": [],
   "version": "0.3.2",
   "views": {}
  },
  "kernelspec": {
   "display_name": "Python 2",
   "language": "python",
   "name": "python2"
  },
  "language_info": {
   "codemirror_mode": {
    "name": "ipython",
    "version": 2
   },
   "file_extension": ".py",
   "mimetype": "text/x-python",
   "name": "python",
   "nbconvert_exporter": "python",
   "pygments_lexer": "ipython2",
   "version": "2.7.6"
  }
 },
 "nbformat": 4,
 "nbformat_minor": 0
}
