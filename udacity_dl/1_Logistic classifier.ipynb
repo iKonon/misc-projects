{
 "cells": [
  {
   "cell_type": "markdown",
   "metadata": {},
   "source": [
    "## Softmax\n",
    "http://cs231n.github.io/linear-classify/#softmax\n",
    "\n",
    "http://eli.thegreenplace.net/2016/the-softmax-function-and-its-derivative/"
   ]
  },
  {
   "cell_type": "code",
   "execution_count": 1,
   "metadata": {
    "collapsed": true
   },
   "outputs": [],
   "source": [
    "import numpy as np\n",
    "from __future__ import division\n",
    "\n",
    "def softmax(x):\n",
    "    \"\"\"\n",
    "    Compute: softmax values for x.\n",
    "    Return: a NumPy array of the same shape as x, the probabilities for each sample (column) must sum to 1. \n",
    "    Note: need to sum row-wise, by default numpy will sum all of the elements of the input array\n",
    "    \"\"\"\n",
    "    x = np.array(x)\n",
    "    return np.exp(x) / np.exp(x).sum(axis=0)"
   ]
  },
  {
   "cell_type": "code",
   "execution_count": 2,
   "metadata": {
    "collapsed": false
   },
   "outputs": [],
   "source": [
    "# 1D-array (which is interpreted as a column vector representing a single sample)\n",
    "assert np.allclose(softmax([1.0, 2.0, 3.0]),[0.09003057, 0.24472847, 0.66524096])\n",
    "assert np.all(np.sum(softmax([1.0, 2.0, 3.0])), axis=0)==1"
   ]
  },
  {
   "cell_type": "code",
   "execution_count": 3,
   "metadata": {
    "collapsed": false
   },
   "outputs": [],
   "source": [
    "# 2D-array where each column represents a sample, shape (3, 4)\n",
    "assert np.allclose(softmax(np.array([[1, 2, 3, 6], [2, 4, 5, 6], [3, 8, 7, 6]])),\\\n",
    "                   [[0.09003057, 0.00242826, 0.01587624, 0.33333333],\\\n",
    "                    [0.24472847, 0.01794253, 0.11731043, 0.33333333],\\\n",
    "                    [0.66524096, 0.97962921, 0.86681333, 0.33333333]])\n",
    "assert np.all(np.sum(softmax(np.array([[1, 2, 3, 6], [2, 4, 5, 6], [3, 8, 7, 6]])), axis=0))==1"
   ]
  },
  {
   "cell_type": "code",
   "execution_count": 4,
   "metadata": {
    "collapsed": false
   },
   "outputs": [
    {
     "data": {
      "text/plain": [
       "<matplotlib.legend.Legend at 0x110220350>"
      ]
     },
     "execution_count": 4,
     "metadata": {},
     "output_type": "execute_result"
    },
    {
     "data": {
      "image/png": "[encoded data removed]",
      "text/plain": [
       "<matplotlib.figure.Figure at 0x110016190>"
      ]
     },
     "metadata": {},
     "output_type": "display_data"
    }
   ],
   "source": [
    "# Plot softmax curves\n",
    "import matplotlib.pyplot as plt\n",
    "%matplotlib inline\n",
    "\n",
    "x = np.arange(-2.0, 6.0, 0.1)\n",
    "scores = np.vstack([x, np.ones_like(x), 0.2 * np.ones_like(x)])\n",
    "\n",
    "#plt.plot(x, softmax(scores).T, linewidth=2)\n",
    "\n",
    "lineObjects = plt.plot(x, softmax(scores).T)\n",
    "plt.legend(iter(lineObjects), ('x', '1.0', '0.2'))"
   ]
  },
  {
   "cell_type": "code",
   "execution_count": 5,
   "metadata": {
    "collapsed": false
   },
   "outputs": [
    {
     "name": "stdout",
     "output_type": "stream",
     "text": [
      "[ 0.8360188   0.11314284  0.05083836]\n",
      "[  9.99999998e-01   2.06115362e-09   6.91440009e-13]\n",
      "[ 0.38842275  0.31801365  0.2935636 ]\n"
     ]
    }
   ],
   "source": [
    "# Multiply the scores by 10. What happens?\n",
    "scores = np.array([3.0, 1.0, 0.2])\n",
    "print(softmax(scores))\n",
    "print(softmax(scores * 10))\n",
    "print(softmax(scores / 10))"
   ]
  },
  {
   "cell_type": "code",
   "execution_count": 6,
   "metadata": {
    "collapsed": false
   },
   "outputs": [
    {
     "name": "stdout",
     "output_type": "stream",
     "text": [
      "0.953674316406\n"
     ]
    }
   ],
   "source": [
    "# Numerical stability\n",
    "# Adding very small values to a very large one can introduce a lot of errors\n",
    "x = 10**9\n",
    "\n",
    "for i in xrange(10**6):\n",
    "    x += 1e-6\n",
    "\n",
    "print x - 10**9 # not 1.0 :("
   ]
  },
  {
   "cell_type": "code",
   "execution_count": 7,
   "metadata": {
    "collapsed": false
   },
   "outputs": [
    {
     "name": "stdout",
     "output_type": "stream",
     "text": [
      "0.999999999918\n"
     ]
    }
   ],
   "source": [
    "x = 1\n",
    "\n",
    "for i in xrange(10**6):\n",
    "    x += 1e-6\n",
    "\n",
    "print x - 1"
   ]
  },
  {
   "cell_type": "code",
   "execution_count": null,
   "metadata": {
    "collapsed": true
   },
   "outputs": [],
   "source": []
  },
  {
   "cell_type": "code",
   "execution_count": null,
   "metadata": {
    "collapsed": true
   },
   "outputs": [],
   "source": []
  }
 ],
 "metadata": {
  "kernelspec": {
   "display_name": "Python 2",
   "language": "python",
   "name": "python2"
  },
  "language_info": {
   "codemirror_mode": {
    "name": "ipython",
    "version": 2
   },
   "file_extension": ".py",
   "mimetype": "text/x-python",
   "name": "python",
   "nbconvert_exporter": "python",
   "pygments_lexer": "ipython2",
   "version": "2.7.10"
  }
 },
 "nbformat": 4,
 "nbformat_minor": 1
}
